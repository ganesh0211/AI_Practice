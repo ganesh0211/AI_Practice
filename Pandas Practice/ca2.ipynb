{
 "cells": [
  {
   "cell_type": "code",
   "execution_count": 48,
   "metadata": {
    "deletable": false,
    "editable": false,
    "id": "xkG21pjvmv8V",
    "nbgrader": {
     "cell_type": "code",
     "checksum": "376a631f63f019dcfea41061b151b6ce",
     "grade": false,
     "grade_id": "cell-830793d1a48b7f1f",
     "locked": true,
     "schema_version": 3,
     "solution": false,
     "task": false
    }
   },
   "outputs": [],
   "source": [
    "%matplotlib inline\n",
    "import matplotlib.pyplot as plt\n",
    "import numpy as np\n",
    "import pandas as pd"
   ]
  },
  {
   "cell_type": "markdown",
   "metadata": {
    "deletable": false,
    "editable": false,
    "id": "D60Q0Spgmv83",
    "nbgrader": {
     "cell_type": "markdown",
     "checksum": "f59dda0f68dd1efb879f8b1b23458064",
     "grade": false,
     "grade_id": "cell-830793d1a48b7f11",
     "locked": true,
     "schema_version": 3,
     "solution": false,
     "task": false
    }
   },
   "source": [
    "\n",
    "**Aim:** Show competence in using the `pandas` library and knowledge of the correlation concept.\n",
    "\n",
    "In the following you are asked to analyze a real world dataset: the Exasens Data Set from https://archive.ics.uci.edu/ml/datasets/Exasens which contains missing values.\n",
    "\n",
    "In this exercise data matrices are considered row-wise, that is a data matrix for `m` instances is a `m x n` matrix consisting of `m` vectors in `n` dimensions."
   ]
  },
  {
   "cell_type": "markdown",
   "metadata": {
    "deletable": false,
    "editable": false,
    "id": "XpfAcid1mv9D",
    "nbgrader": {
     "cell_type": "markdown",
     "checksum": "7d8736ae2e4072d025befbade03b5350",
     "grade": false,
     "grade_id": "cell-f11fe5fa02d23eee",
     "locked": true,
     "schema_version": 3,
     "solution": false,
     "task": false
    }
   },
   "source": [
    "## Question 1.1\n",
    "\n",
    "Make a function `load_exasens_data_set()` that returns a pandas data frame with the the data made available by the UC Irvine Machine Learning Repository at the following URL: https://archive.ics.uci.edu/ml/datasets/Exasens (you need to find the exact URL for the data file in csv format).\n",
    "\n",
    "\n",
    "The function should read the data directly from the URL (not froma location on the local disk) and  perform the necessary processing and manipulation of the raw data so as to output a data frame `df` with the following characteristics:\n",
    "```\n",
    ">>df.info()\n",
    "\n",
    "RangeIndex: 399 entries, 0 to 398\n",
    "Data columns (total 9 columns):\n",
    " #   Column              Non-Null Count  Dtype  \n",
    "---  ------              --------------  -----  \n",
    " 0   Diagnosis           399 non-null    object \n",
    " 1   ID                  399 non-null    object \n",
    " 2   Imaginary_Part_Min  100 non-null    float64\n",
    " 3   Imaginary_Part_Avg  100 non-null    float64\n",
    " 4   Real_Part_Min       100 non-null    float64\n",
    " 5   Real_Part_Avg       100 non-null    float64\n",
    " 6   Gender              399 non-null    int64  \n",
    " 7   Age                 399 non-null    int64  \n",
    " 8   Smoking             399 non-null    int64  \n",
    "dtypes: float64(4), int64(3), object(2)\n",
    "memory usage: 28.2+ KB\n",
    "```\n",
    "**Note:** you have to obtain a frame that has the **exact** column names as shown above."
   ]
  },
  {
   "cell_type": "code",
   "execution_count": 49,
   "metadata": {
    "deletable": false,
    "id": "J4MvltNDmv9H",
    "nbgrader": {
     "cell_type": "code",
     "checksum": "edb2c28726f6ccd6f7c46cf4a7c805e7",
     "grade": false,
     "grade_id": "cell-4b994146f17c1f3a",
     "locked": false,
     "schema_version": 3,
     "solution": true,
     "task": false
    }
   },
   "outputs": [],
   "source": [
    "def load_exasens_data_set():\n",
    "    df = pd.read_csv('https://archive.ics.uci.edu/ml/machine-learning-databases/00523/Exasens.csv')\n",
    "    df = df[2:]\n",
    "    df.drop(list(df.columns)[9:13], axis=1, inplace=True)\n",
    "    df.rename(columns={\"Imaginary Part\": \"Imaginary_Part_Min\", \"Unnamed: 3\": \"Imaginary_Part_Avg\",\"Real Part\": \"Real_Part_Min\", \"Unnamed: 5\": \"Real_Part_Avg\"},inplace=True)\n",
    "    df = df.astype({'Imaginary_Part_Min':'float64','Imaginary_Part_Avg':'float64','Real_Part_Min':'float64',\"Real_Part_Avg\":'float64','Gender':'int64','Age':'int64','Smoking':'int64'})\n",
    "    df.index = range(len(df.index))\n",
    "    return df\n"
   ]
  },
  {
   "cell_type": "code",
   "execution_count": 50,
   "metadata": {
    "deletable": false,
    "editable": false,
    "id": "r_14SE9Nmv9J",
    "nbgrader": {
     "cell_type": "code",
     "checksum": "1c2d6ea9b7507c2dacf34a3a3c87a611",
     "grade": true,
     "grade_id": "cell-591c11378642bd18",
     "locked": true,
     "points": 4,
     "schema_version": 3,
     "solution": false,
     "task": false
    }
   },
   "outputs": [],
   "source": [
    "# This cell is reserved for the unit tests. Do not consider this cell. "
   ]
  },
  {
   "cell_type": "markdown",
   "metadata": {
    "deletable": false,
    "editable": false,
    "id": "pzeApXsDmv9K",
    "nbgrader": {
     "cell_type": "markdown",
     "checksum": "71b0b842c9de52a6f3cbb14abfd66ed6",
     "grade": false,
     "grade_id": "cell-55bf98aa88984e59",
     "locked": true,
     "schema_version": 3,
     "solution": false,
     "task": false
    }
   },
   "source": [
    "## Question 1.2\n",
    "\n",
    "Make a function `add_binned_column(df, col_name, limits)`. The function takes in input a data frame `df`, one of its columns label `col_name` and a list of values `limits`. \n",
    "\n",
    "The function returns the input data frame with an additional column: the label of the new column is obtained by adding the fixed suffix \"_bin\", so if col_name is \"Age\" then the new column has label \"Age_bin\". \n",
    "\n",
    "The aim of the function is to convert values into the ordinal integers 0,1,2,...,etc. \n",
    "\n",
    "The list `limits` contains the bins boundaries used for the conversion. The bins are closed on the left and open on the right, i.e. a bin with boundaries `[10,20)` contains all values >= 10 and < 20. \n",
    "\n",
    "In a list `[v, a, b, c, ..., w]` the first value `v` defines the bin (-inf,v) and the last value `w` defines the bin (w,+inf).\n",
    "\n",
    "For example `limits=[5,10,15]` defines the following bins: `(-inf,5), [5,10), [10, 15), [15, +inf)`. Values falling in the first bin will be mapped to the integer 0, values in the second bin will be mapped to the integer 1,  in the third bin to 2, in the fourth bin to 3. \n"
   ]
  },
  {
   "cell_type": "code",
   "execution_count": 51,
   "metadata": {
    "deletable": false,
    "id": "_tuYbRxUmv9R",
    "nbgrader": {
     "cell_type": "code",
     "checksum": "65aaf74de6e594c18e43282adb5c1644",
     "grade": false,
     "grade_id": "cell-939f58e2d2dfdf86",
     "locked": false,
     "schema_version": 3,
     "solution": true,
     "task": false
    }
   },
   "outputs": [],
   "source": [
    "def add_binned_column(df, col_name, limits):\n",
    "    if not float('-inf') in limits:\n",
    "        limits.append(float('-inf'))\n",
    "    if not float('inf') in limits:\n",
    "        limits.append(float('inf'))\n",
    "    limits = sorted(limits)\n",
    "    df[col_name+'_bin'] = pd.cut(df[col_name],bins=limits,labels=range(len(limits)-1))\n",
    "    return df\n"
   ]
  },
  {
   "cell_type": "code",
   "execution_count": 52,
   "metadata": {
    "deletable": false,
    "editable": false,
    "id": "yJkBxXxjmv9S",
    "nbgrader": {
     "cell_type": "code",
     "checksum": "5d752f5acf9fd62966376c6c39c1c351",
     "grade": true,
     "grade_id": "cell-d8853cd431cf3025",
     "locked": true,
     "points": 5,
     "schema_version": 3,
     "solution": false,
     "task": false
    }
   },
   "outputs": [],
   "source": [
    "# This cell is reserved for the unit tests. Do not consider this cell. "
   ]
  },
  {
   "cell_type": "markdown",
   "metadata": {
    "deletable": false,
    "editable": false,
    "id": "4YVM04l_mv9T",
    "nbgrader": {
     "cell_type": "markdown",
     "checksum": "c2c3bcc71b264a4e79eaea3afde1635b",
     "grade": false,
     "grade_id": "cell-f0e171415bdb958e",
     "locked": true,
     "schema_version": 3,
     "solution": false,
     "task": false
    }
   },
   "source": [
    "## Question 1.3\n",
    "\n",
    "Make a function `add_class(df, col_name)` to return a data frame with an added new column with fixed label of \"target\".\n",
    "\n",
    "The function considers the distinct categorical values present in the column with label `col_name` in the input data frame `df` and maps them to integers.\n",
    "\n",
    "For example, if the data frame `df` has a column with label `Diagnosis` with values `[COPD, COPD, HC, Asthma, HC, COPD]`, then the new column `target` will have values `[0,0,1,2,1,0]`."
   ]
  },
  {
   "cell_type": "code",
   "execution_count": 53,
   "metadata": {
    "deletable": false,
    "id": "PkIpYFVumv9T",
    "nbgrader": {
     "cell_type": "code",
     "checksum": "e870bef245653e3d74da0aa6b41f6f2e",
     "grade": false,
     "grade_id": "cell-667dd7adfe19f946",
     "locked": false,
     "schema_version": 3,
     "solution": true,
     "task": false
    }
   },
   "outputs": [],
   "source": [
    "def add_class(df, col_name):\n",
    "    df['target']=df[col_name].factorize()[0]\n",
    "    return df\n"
   ]
  },
  {
   "cell_type": "code",
   "execution_count": 54,
   "metadata": {
    "deletable": false,
    "editable": false,
    "id": "gzk1_eEtmv9U",
    "nbgrader": {
     "cell_type": "code",
     "checksum": "57dc47d025076b525d9217fbe89a7fa3",
     "grade": true,
     "grade_id": "cell-de58cc1715f86005",
     "locked": true,
     "points": 4,
     "schema_version": 3,
     "solution": false,
     "task": false
    }
   },
   "outputs": [],
   "source": [
    "# This cell is reserved for the unit tests. Do not consider this cell. "
   ]
  },
  {
   "cell_type": "markdown",
   "metadata": {
    "deletable": false,
    "editable": false,
    "id": "oOFiktRLmv9U",
    "nbgrader": {
     "cell_type": "markdown",
     "checksum": "46cba78d7b0c1440b4eb1dd6c94eba77",
     "grade": false,
     "grade_id": "cell-98c1a18ed49260a3",
     "locked": true,
     "schema_version": 3,
     "solution": false,
     "task": false
    }
   },
   "source": [
    "## Question 1.4\n",
    "\n",
    "Make a function `replace_missing_with_conditional_mean(df, condition_cols, cols)` to replace the missing values present in columns with labels in the list `cols`. \n",
    "\n",
    "The value to be replaced is computed as the mean of the non missing values of the corresponding group. Groups are formed based on the values in the columns with labels in the list `condition_cols`. \n",
    "\n",
    "\n",
    "For example if you have the following data frame `df`:\n",
    "```\n",
    "  Col1 Col2  Col3\n",
    "0    A    c   1.0\n",
    "1    A    c   3.0\n",
    "2    B    c   5.0\n",
    "3    A    d   6.0\n",
    "4    A    c   NaN\n",
    "```\n",
    "then applying `replace_missing_with_conditional_mean(df, condition_cols=['Col1','Col2'], cols=['Col3'])` should yield in output\n",
    "```\n",
    "  Col1 Col2  Col3\n",
    "0    A    c   1.0\n",
    "1    A    c   3.0\n",
    "2    B    c   5.0\n",
    "3    A    d   6.0\n",
    "4    A    c   2.0\n",
    "```\n",
    "this is because the record on line 4 belongs to the group `A c` that has a mean of `(1+3)/2 = 2`."
   ]
  },
  {
   "cell_type": "code",
   "execution_count": 55,
   "metadata": {
    "deletable": false,
    "id": "qCNwspUFmv9V",
    "nbgrader": {
     "cell_type": "code",
     "checksum": "4ce91efaef5d19c190388397aed23a9b",
     "grade": false,
     "grade_id": "cell-ab243fa722726491",
     "locked": false,
     "schema_version": 3,
     "solution": true,
     "task": false
    }
   },
   "outputs": [],
   "source": [
    "def replace_missing_with_conditional_mean(df, condition_cols, cols):\n",
    "    for col in cols:\n",
    "        df[col]=df.groupby(condition_cols)[col].apply(lambda column: column.fillna(column.mean()))\n",
    "    return df\n"
   ]
  },
  {
   "cell_type": "code",
   "execution_count": 56,
   "metadata": {
    "deletable": false,
    "editable": false,
    "id": "ZbjVfJ6ymv9Z",
    "nbgrader": {
     "cell_type": "code",
     "checksum": "019dec78228c7a3e53df6411500ea28b",
     "grade": true,
     "grade_id": "cell-b9fb8cabee4e7fd8",
     "locked": true,
     "points": 6,
     "schema_version": 3,
     "solution": false,
     "task": false
    }
   },
   "outputs": [],
   "source": [
    "# This cell is reserved for the unit tests. Do not consider this cell. "
   ]
  },
  {
   "cell_type": "markdown",
   "metadata": {
    "deletable": false,
    "editable": false,
    "id": "8ALERQ4Ymv9g",
    "nbgrader": {
     "cell_type": "markdown",
     "checksum": "d8c7c393a0bc493ab359947d4129442d",
     "grade": false,
     "grade_id": "cell-7d689badcb3bae98",
     "locked": true,
     "schema_version": 3,
     "solution": false,
     "task": false
    }
   },
   "source": [
    "### Question 1.5\n",
    "\n",
    "Make a function `standardize(df, cols)` that outputs a data frame where the values for the columns with labels in the list `cols` have been standardized, that is, they have been processed to have zero mean and standard deviation of 1."
   ]
  },
  {
   "cell_type": "code",
   "execution_count": 57,
   "metadata": {
    "deletable": false,
    "id": "PaKxhe3Lmv9g",
    "nbgrader": {
     "cell_type": "code",
     "checksum": "d96d4e9c0165e32126a6d45c515ebbaf",
     "grade": false,
     "grade_id": "cell-9b376137138593d4",
     "locked": false,
     "schema_version": 3,
     "solution": true,
     "task": false
    }
   },
   "outputs": [],
   "source": [
    "def standardize(df, cols):\n",
    "    new_df = df[cols]\n",
    "    new_df = (new_df - new_df.mean()) / new_df.std()\n",
    "    df[cols] = new_df[cols]\n",
    "    return df\n"
   ]
  },
  {
   "cell_type": "code",
   "execution_count": 58,
   "metadata": {
    "deletable": false,
    "editable": false,
    "id": "iHmj2l3Nmv9h",
    "nbgrader": {
     "cell_type": "code",
     "checksum": "40669c90bcd7519b28ac3e9e27f543ae",
     "grade": true,
     "grade_id": "cell-0fec665f26a5c8e1",
     "locked": true,
     "points": 3,
     "schema_version": 3,
     "solution": false,
     "task": false
    }
   },
   "outputs": [],
   "source": [
    "# This cell is reserved for the unit tests. Do not consider this cell. "
   ]
  },
  {
   "cell_type": "markdown",
   "metadata": {
    "deletable": false,
    "editable": false,
    "id": "qjwlAP4mmv9h",
    "nbgrader": {
     "cell_type": "markdown",
     "checksum": "93fe2d68f2bc46e3983c67776d4aa5a8",
     "grade": false,
     "grade_id": "cell-1e0cd88472885d35",
     "locked": true,
     "schema_version": 3,
     "solution": false,
     "task": false
    }
   },
   "source": [
    "## Question 1.6\n",
    "\n",
    "Make a function `make_correlation_matrix_from(df, cols)` to output a numpy array containing the correlation matrix relative to the data in the input data frame `df`. The data is extracted from the columns with labels in `cols`.\n",
    "\n",
    "Provide your own implementation of the correlation. Do **not** use functions from the numpy library or any other library to compute directly the correlation matrix."
   ]
  },
  {
   "cell_type": "code",
   "execution_count": 59,
   "metadata": {
    "deletable": false,
    "id": "GL-9m2QGmv9i",
    "nbgrader": {
     "cell_type": "code",
     "checksum": "9f8c1988f03e33b859593d4e7efca864",
     "grade": false,
     "grade_id": "cell-5b15cbae29df7e37",
     "locked": false,
     "schema_version": 3,
     "solution": true,
     "task": false
    }
   },
   "outputs": [],
   "source": [
    "def make_correlation_matrix_from(df,cols):\n",
    "    corr=np.zeros(shape=(len(cols),len(cols))) # empty array\n",
    "    i=0;j=0\n",
    "    n=df.shape[0]\n",
    "    for a in range(len(cols)):\n",
    "        for b in range(len(cols)):\n",
    "            x=np.nan_to_num(df[cols[a]].values)\n",
    "            y=np.nan_to_num(df[cols[b]].values)\n",
    "            cor=(sum((x-x.mean())*(y-y.mean())))/(n)/(x.std()*y.std()) \n",
    "            corr[a,b]=cor\n",
    "    return corr"
   ]
  },
  {
   "cell_type": "code",
   "execution_count": 60,
   "metadata": {
    "deletable": false,
    "editable": false,
    "id": "fO6R0UmPmv9j",
    "nbgrader": {
     "cell_type": "code",
     "checksum": "b8e3cd0ce0f8aa465394aa74d7a605c3",
     "grade": true,
     "grade_id": "cell-425ece82337d3933",
     "locked": true,
     "points": 3,
     "schema_version": 3,
     "solution": false,
     "task": false
    }
   },
   "outputs": [],
   "source": [
    "# This cell is reserved for the unit tests. Do not consider this cell. "
   ]
  },
  {
   "cell_type": "markdown",
   "metadata": {
    "deletable": false,
    "editable": false,
    "id": "uzeEee99mv9j",
    "nbgrader": {
     "cell_type": "markdown",
     "checksum": "a2ca8511eab6f97945a13701fb2a145c",
     "grade": false,
     "grade_id": "cell-e4e297803a84261a",
     "locked": true,
     "schema_version": 3,
     "solution": false,
     "task": false
    }
   },
   "source": [
    "## Question 1.7\n",
    "\n",
    "Make a function `plot_corr(corr, labels)` to plot a correlation matrix `corr` (with variable names given as a list of strings in `labels`) (2 marks).\n",
    "\n",
    "\n",
    "When you execute the following sequence of tranformations\n",
    "```python\n",
    "df = load_exasens_data_set()\n",
    "df = add_binned_column(df, col_name='Age', limits=[30,50,60])\n",
    "df = add_class(df, col_name='Diagnosis')\n",
    "df = replace_missing_with_conditional_mean(df, condition_cols=['Smoking','Gender','Age_bin'], cols=['Imaginary_Part_Min','Imaginary_Part_Avg','Real_Part_Min', 'Real_Part_Avg'])\n",
    "df = standardize(df, cols=['Imaginary_Part_Min','Imaginary_Part_Avg','Real_Part_Min', 'Real_Part_Avg','Gender','Age','Smoking'])\n",
    "corr =  make_correlation_matrix_from(df, cols=['Imaginary_Part_Min','Imaginary_Part_Avg','Real_Part_Min', 'Real_Part_Avg','Gender','Age','Smoking'])\n",
    "plot_corr(corr, labels=cols)\n",
    "```\n",
    "you should obtain (3 marks):\n",
    "<img src='corr.png' width=\"500\">"
   ]
  },
  {
   "cell_type": "code",
   "execution_count": 61,
   "metadata": {
    "colab": {
     "base_uri": "https://localhost:8080/",
     "height": 354
    },
    "deletable": false,
    "id": "TQMMnDz6mv9j",
    "nbgrader": {
     "cell_type": "code",
     "checksum": "6e1de643359ac39d9582b7e13b672a89",
     "grade": false,
     "grade_id": "cell-3f3d83df3e6c9f8c",
     "locked": false,
     "schema_version": 3,
     "solution": true,
     "task": false
    },
    "outputId": "ba08f5f9-d0bd-47c3-b2f0-68d0f912e6e3"
   },
   "outputs": [],
   "source": [
    "import seaborn as sns \n",
    "def plot_corr(C, labels):\n",
    "    sns.heatmap(C, annot = True,cmap='PuBu',xticklabels=labels,yticklabels=labels,cbar=False,fmt='0.2g')\n",
    "    plt.show()\n"
   ]
  },
  {
   "cell_type": "code",
   "execution_count": 62,
   "metadata": {
    "deletable": false,
    "editable": false,
    "id": "L_Q-rdVxmv9k",
    "nbgrader": {
     "cell_type": "code",
     "checksum": "ea1c2ba062d9288d3c1e42ca3c50d8ac",
     "grade": true,
     "grade_id": "cell-0ce17d2e779f3a5c",
     "locked": true,
     "points": 2,
     "schema_version": 3,
     "solution": false,
     "task": false
    }
   },
   "outputs": [],
   "source": [
    "# This cell is reserved for the unit tests. Do not consider this cell. "
   ]
  },
  {
   "cell_type": "code",
   "execution_count": 63,
   "metadata": {
    "deletable": false,
    "editable": false,
    "id": "AQDISY6omv9k",
    "nbgrader": {
     "cell_type": "code",
     "checksum": "a1091e03d8e6efb4296c0e3552dba5e9",
     "grade": true,
     "grade_id": "cell-71b420708c3894c9",
     "locked": true,
     "points": 3,
     "schema_version": 3,
     "solution": false,
     "task": false
    }
   },
   "outputs": [],
   "source": [
    "# This cell is reserved for the unit tests. Do not consider this cell. "
   ]
  },
  {
   "cell_type": "markdown",
   "metadata": {
    "deletable": false,
    "editable": false,
    "id": "a6080Ncfmv9l",
    "nbgrader": {
     "cell_type": "markdown",
     "checksum": "7742c493a2888229dc6a7195bbad79f2",
     "grade": false,
     "grade_id": "cell-1fa8c80e4aac3bff",
     "locked": true,
     "schema_version": 3,
     "solution": false,
     "task": false
    }
   },
   "source": [
    "# Part 2\n",
    "\n",
    "**Aim:** Show an understanding of the main concepts in linear algebra such as PCA and SVD.\n",
    "\n",
    "\n",
    "In this exercise data matrices are considered row-wise, that is a data matrix for `m` instances is a `m x n` matrix consisting of `m` vectors in `n` dimensions."
   ]
  },
  {
   "cell_type": "markdown",
   "metadata": {
    "deletable": false,
    "editable": false,
    "id": "sEh-ibtzmv9m",
    "nbgrader": {
     "cell_type": "markdown",
     "checksum": "31587baacc259b727057aa40a5a396d3",
     "grade": false,
     "grade_id": "cell-0ebf619a39826b05",
     "locked": true,
     "schema_version": 3,
     "solution": false,
     "task": false
    }
   },
   "source": [
    "## Question 2.1\n",
    "\n",
    "Write the function `get_mean_cov(X)` that takes a data matrix in input and returns the mean as a one dimensional numpy vector and the covariance matrix as a numpy matrix object.\n",
    "\n",
    "\n",
    "Provide your own implementation of the covariance. Do **not** use functions from the numpy library or any other library to compute directly the covariance matrix."
   ]
  },
  {
   "cell_type": "code",
   "execution_count": 64,
   "metadata": {
    "colab": {
     "base_uri": "https://localhost:8080/"
    },
    "deletable": false,
    "id": "rQSTiFycmv9x",
    "nbgrader": {
     "cell_type": "code",
     "checksum": "a20e289b444f07c1be0429802dd73e06",
     "grade": false,
     "grade_id": "cell-f0d5e9234a1f2194",
     "locked": false,
     "schema_version": 3,
     "solution": true,
     "task": false
    },
    "outputId": "ad10d06a-f389-4cce-ba30-eca9c377c8b1"
   },
   "outputs": [],
   "source": [
    "def get_mean_cov(X):\n",
    "    mean = np.mean(X, axis=0)\n",
    "    Xmat = np.mat(X - mean.reshape(1,-1))\n",
    "    cov = Xmat.T*Xmat/(Xmat.shape[0]-1)\n",
    "    return np.array(mean).ravel(), cov\n",
    "    \n",
    "def getmean(X):\n",
    "    return np.array([sum(X[row])/len(X[row]) for row in range(len(X))])\n"
   ]
  },
  {
   "cell_type": "code",
   "execution_count": 65,
   "metadata": {
    "deletable": false,
    "editable": false,
    "id": "-g8XM-LHmv9y",
    "nbgrader": {
     "cell_type": "code",
     "checksum": "9b8e0ed307d99cc7034a0e2b83afec31",
     "grade": true,
     "grade_id": "cell-55994c0bfb59e060",
     "locked": true,
     "points": 3,
     "schema_version": 3,
     "solution": false,
     "task": false
    }
   },
   "outputs": [],
   "source": [
    "# This cell is reserved for the unit tests. Do not consider this cell. "
   ]
  },
  {
   "cell_type": "markdown",
   "metadata": {
    "deletable": false,
    "editable": false,
    "id": "73YjHGwdmv9y",
    "nbgrader": {
     "cell_type": "markdown",
     "checksum": "785988d447a6c1015a0623e736c89916",
     "grade": false,
     "grade_id": "cell-35bf111dc6d886ae",
     "locked": true,
     "schema_version": 3,
     "solution": false,
     "task": false
    }
   },
   "source": [
    "## Question 2.2\n",
    "\n",
    "Write your own code to perform the PCA dimensionality reduction (i.e. do not use functions provided by the `scikit` library, such as `sklearn.decomposition.PCA` or `sklearn.decomposition.TruncatedSVD` or any other library).\n",
    "\n",
    "Write a function `PCA(X, n_dim=2)` that takes in input a `m x n` data matrix consisting of `m` vectors in `n` dimensions and returns the **centred** projection of `X` on the `n_dim` principal components as a `m x n_dim` data matrix."
   ]
  },
  {
   "cell_type": "code",
   "execution_count": 66,
   "metadata": {
    "deletable": false,
    "id": "u2i7CbIHmv90",
    "nbgrader": {
     "cell_type": "code",
     "checksum": "997c53c58d6f1c3af24559f6a5a8f0f5",
     "grade": false,
     "grade_id": "cell-99d1697bbf4639b8",
     "locked": false,
     "schema_version": 3,
     "solution": true,
     "task": false
    }
   },
   "outputs": [],
   "source": [
    "def PCA(X,n_dim=2):\n",
    "    mean,cov=get_mean_cov(X)\n",
    "    X = np.array(X)\n",
    "    X = X - X.mean(axis=0)\n",
    "    v, u = np.linalg.eig(cov)\n",
    "    idx = v.argsort()[::-1] \n",
    "    v = v[idx] \n",
    "    u = u[:,idx] #\n",
    "    return X.dot(u[:, :n_dim])\n"
   ]
  },
  {
   "cell_type": "code",
   "execution_count": 67,
   "metadata": {
    "deletable": false,
    "editable": false,
    "id": "2i8K29D6mv90",
    "nbgrader": {
     "cell_type": "code",
     "checksum": "c28502b4515275737fd9f871acc9c004",
     "grade": true,
     "grade_id": "cell-8196ea623c5f3393",
     "locked": true,
     "points": 2,
     "schema_version": 3,
     "solution": false,
     "task": false
    }
   },
   "outputs": [],
   "source": [
    "# This cell is reserved for the unit tests. Do not consider this cell. "
   ]
  },
  {
   "cell_type": "code",
   "execution_count": 68,
   "metadata": {
    "deletable": false,
    "editable": false,
    "id": "ceK5HjXjmv91",
    "nbgrader": {
     "cell_type": "code",
     "checksum": "c7bf80c746db52fea9c8cb65874300c0",
     "grade": true,
     "grade_id": "cell-911f688d6545433a",
     "locked": true,
     "points": 5,
     "schema_version": 3,
     "solution": false,
     "task": false
    }
   },
   "outputs": [],
   "source": [
    "# This cell is reserved for the unit tests. Do not consider this cell. "
   ]
  },
  {
   "cell_type": "markdown",
   "metadata": {
    "deletable": false,
    "editable": false,
    "id": "tG-pUYEpmv91",
    "nbgrader": {
     "cell_type": "markdown",
     "checksum": "db16e1db1c8a42a4383890cdab470dfd",
     "grade": false,
     "grade_id": "cell-1f45ea00d8677d33",
     "locked": true,
     "schema_version": 3,
     "solution": false,
     "task": false
    }
   },
   "source": [
    "## Question 2.3\n",
    "\n",
    "Write a function `plot(X, y=None)` that exploits the PCA function to plot a two dimensional projection of the input `m x n` data matrix `X` and that,  if available, uses the array `y` to determine the colors. "
   ]
  },
  {
   "cell_type": "code",
   "execution_count": 69,
   "metadata": {
    "deletable": false,
    "id": "pzSvT067mv91",
    "nbgrader": {
     "cell_type": "code",
     "checksum": "0bd4e4fc8001664776ecaa99e1bb3f1f",
     "grade": false,
     "grade_id": "cell-a65599c24a4a12c5",
     "locked": false,
     "schema_version": 3,
     "solution": true,
     "task": false
    }
   },
   "outputs": [],
   "source": [
    "def plot(X,y=None):\n",
    "    X2d = PCA(X, 2)\n",
    "    plt.figure(figsize=(8,8))\n",
    "    a,b=X2d.A.T\n",
    "    if y is None:\n",
    "        plt.scatter(a,b)\n",
    "    else:\n",
    "        plt.scatter(a,b, c=y)\n",
    "    plt.axis('equal')\n",
    "    plt.grid()\n",
    "    plt.show()\n"
   ]
  },
  {
   "cell_type": "code",
   "execution_count": 70,
   "metadata": {
    "deletable": false,
    "editable": false,
    "id": "5tIVEto8mv9-",
    "nbgrader": {
     "cell_type": "code",
     "checksum": "9b0dc11223516a9673527dc7fa75102d",
     "grade": true,
     "grade_id": "cell-c5362d9d55a44086",
     "locked": true,
     "points": 2,
     "schema_version": 3,
     "solution": false,
     "task": false
    }
   },
   "outputs": [],
   "source": [
    "# This cell is reserved for the unit tests. Do not consider this cell. "
   ]
  },
  {
   "cell_type": "markdown",
   "metadata": {
    "deletable": false,
    "editable": false,
    "id": "rFtgwQXLmv-A",
    "nbgrader": {
     "cell_type": "markdown",
     "checksum": "c15c3e2f2ec849fd4ff4cee0cc2733ca",
     "grade": false,
     "grade_id": "cell-d14483f571b19de5",
     "locked": true,
     "schema_version": 3,
     "solution": false,
     "task": false
    }
   },
   "source": [
    "## Question 2.4\n",
    "\n",
    "Write a function `approximate(X, r)` that returns the rank `r` approximation of the input data matrix `X`, i.e. for a `m x n` input matrix `X` returns a `m x n` matrix `Z` that has rank `r`."
   ]
  },
  {
   "cell_type": "code",
   "execution_count": 71,
   "metadata": {
    "deletable": false,
    "id": "-XnwnUjtmv-A",
    "nbgrader": {
     "cell_type": "code",
     "checksum": "0906237f68d778c36d7f839bad106b88",
     "grade": false,
     "grade_id": "cell-c585c374ab9204e1",
     "locked": false,
     "schema_version": 3,
     "solution": true,
     "task": false
    }
   },
   "outputs": [],
   "source": [
    "def approximate(X, r):\n",
    "    Xc = np.where(np.isnan(X), np.ma.array(X, mask = np.isnan(X)).mean(axis = 0), X)\n",
    "    U, s, Vh = np.linalg.svd(np.mat(Xc))\n",
    "    S = np.mat(np.diag(s[:r]))\n",
    "    return U[:,:r] * S * Vh[:r, :]\n"
   ]
  },
  {
   "cell_type": "code",
   "execution_count": 72,
   "metadata": {
    "deletable": false,
    "editable": false,
    "id": "r085q-uXmv-C",
    "nbgrader": {
     "cell_type": "code",
     "checksum": "2baaf6360a5fc5f55ee6785ebdbb1418",
     "grade": true,
     "grade_id": "cell-082bceaf73789588",
     "locked": true,
     "points": 6,
     "schema_version": 3,
     "solution": false,
     "task": false
    }
   },
   "outputs": [],
   "source": [
    "# This cell is reserved for the unit tests. Do not consider this cell. "
   ]
  },
  {
   "cell_type": "markdown",
   "metadata": {
    "deletable": false,
    "editable": false,
    "id": "s1g--MwCmv-C",
    "nbgrader": {
     "cell_type": "markdown",
     "checksum": "5513e2f5a8d8f7e24a80bdf49f59f1c2",
     "grade": false,
     "grade_id": "cell-c52da20e8d0ebc3a",
     "locked": true,
     "schema_version": 3,
     "solution": false,
     "task": false
    }
   },
   "source": [
    "## Question 2.5\n",
    "\n",
    "Write a function `approximation_error(X, r)` that returns an array with the lenghts of the difference vector between the instances in the input data matrix `X` and the corresponding approximated matrix of rank `r`. When `X` is a `m x n` data matrix, the output is a one dimensional array of size `m`."
   ]
  },
  {
   "cell_type": "code",
   "execution_count": 73,
   "metadata": {
    "deletable": false,
    "id": "Ib3Sx_Dimv-D",
    "nbgrader": {
     "cell_type": "code",
     "checksum": "981255cb87be944a63f035ff49d70b2a",
     "grade": false,
     "grade_id": "cell-71e2c4b97bd40e74",
     "locked": false,
     "schema_version": 3,
     "solution": true,
     "task": false
    }
   },
   "outputs": [],
   "source": [
    "def approximation_error(X,r):\n",
    "    Xd = X-approximate(X,r)\n",
    "    return np.sqrt(np.sum(np.power(Xd,2),axis=0))"
   ]
  },
  {
   "cell_type": "code",
   "execution_count": 74,
   "metadata": {
    "deletable": false,
    "editable": false,
    "id": "sOn4nOvUmv-E",
    "nbgrader": {
     "cell_type": "code",
     "checksum": "0ee36b4c86f2e8e7e720a6d3d51ff832",
     "grade": true,
     "grade_id": "cell-9e524bd8f4a69f26",
     "locked": true,
     "points": 4,
     "schema_version": 3,
     "solution": false,
     "task": false
    }
   },
   "outputs": [],
   "source": [
    "# This cell is reserved for the unit tests. Do not consider this cell. "
   ]
  },
  {
   "cell_type": "markdown",
   "metadata": {
    "deletable": false,
    "editable": false,
    "id": "1hH_0tI_mv-E",
    "nbgrader": {
     "cell_type": "markdown",
     "checksum": "bea6a6cb9b209cf043df3837ec4897f1",
     "grade": false,
     "grade_id": "cell-ccae0d1ace8ac45a",
     "locked": true,
     "schema_version": 3,
     "solution": false,
     "task": false
    }
   },
   "source": [
    "## Question 2.6\n",
    "\n",
    "Write a function `replace_missing_with_approximation(X, is_missing, r)` that receives in input a data matrix `X` and a boolean array `is_missing` and a desired rank `r`. The function computes a rank `r` approximation of `X` and replaces the vectors corrisponding the position containing `True` in the boolean array `is_missing`. The output data matrix has the same shape of the input data matrix."
   ]
  },
  {
   "cell_type": "code",
   "execution_count": 75,
   "metadata": {
    "deletable": false,
    "id": "OKpH68UBmv-E",
    "nbgrader": {
     "cell_type": "code",
     "checksum": "98176abad84ab2e541af2e2561cba032",
     "grade": false,
     "grade_id": "cell-751189ac74b98922",
     "locked": false,
     "schema_version": 3,
     "solution": true,
     "task": false
    }
   },
   "outputs": [],
   "source": [
    "def replace_missing_with_approximation(X, is_missing, r):\n",
    "    X = X.astype(float)\n",
    "    Xr = approximate(X,r)\n",
    "    X[is_missing] = Xr[is_missing]\n",
    "    return X"
   ]
  },
  {
   "cell_type": "code",
   "execution_count": 76,
   "metadata": {
    "deletable": false,
    "editable": false,
    "id": "8Xt_EZ9nmv-F",
    "nbgrader": {
     "cell_type": "code",
     "checksum": "fd5b692014312af6f9556904e90e4963",
     "grade": true,
     "grade_id": "cell-b564f92b467ad5d8",
     "locked": true,
     "points": 4,
     "schema_version": 3,
     "solution": false,
     "task": false
    }
   },
   "outputs": [],
   "source": [
    "# This cell is reserved for the unit tests. Do not consider this cell. "
   ]
  },
  {
   "cell_type": "markdown",
   "metadata": {
    "deletable": false,
    "editable": false,
    "id": "UsKSqwCymv-F",
    "nbgrader": {
     "cell_type": "markdown",
     "checksum": "c50bf62ec5e63e49ced364cadd05be34",
     "grade": false,
     "grade_id": "cell-57229db2137e6b94",
     "locked": true,
     "schema_version": 3,
     "solution": false,
     "task": false
    }
   },
   "source": [
    "## Question 2.7\n",
    "\n",
    "\n",
    "Write a function `remove_outliers(X, y, threshold)` that receives in input a data matrix `X` and a class vector `y` and outputs a data matrix `Xp` and a class vector `yp`. Let `Xi` be the data matrix relative to class `i`. The function computes the mahalanobis distance of each vector in `Xi` with respect to the distribution that can be inferred from `Xi`. Only the vectors with a distance inferior than the desired parameter `threshold` are reported in output, i.e. this function removes the instances that have a large mahalanobis distance. \n",
    "\n",
    "Note that the order of the vector in `X` is not necessarily related to the order of the vectors in `Xp`. \n",
    "It is understood that the entries in `Xp` and `yp` are aligned (i.e. the class of the row vector with row index `j` is `yp[j]`)."
   ]
  },
  {
   "cell_type": "code",
   "execution_count": 77,
   "metadata": {
    "colab": {
     "base_uri": "https://localhost:8080/"
    },
    "deletable": false,
    "id": "GZwl0p97mv-F",
    "nbgrader": {
     "cell_type": "code",
     "checksum": "5fd748df22ddbcd1a3004ec8d0a39103",
     "grade": false,
     "grade_id": "cell-3dd7dad7ac2a520c",
     "locked": false,
     "schema_version": 3,
     "solution": true,
     "task": false
    },
    "outputId": "c5c62f52-4721-4210-86f0-156d5419eab3"
   },
   "outputs": [],
   "source": [
    "def remove_outliers(X,y,threshold):\n",
    "    xp=np.array([]).reshape(0,X.shape[1])\n",
    "    yp=np.array([])\n",
    "    for i in np.unique(y):\n",
    "        x=X[y==i]\n",
    "        y1=y[y==i]\n",
    "        x_minus_mu = x - np.mean(X,axis=0)\n",
    "        cov = np.cov(x.T)\n",
    "        left_term = np.dot(x_minus_mu, np.linalg.inv(cov))\n",
    "        mahal = np.dot(left_term, x_minus_mu.T)\n",
    "        m=mahal.diagonal()\n",
    "        ind=m<threshold\n",
    "        x1=x[ind]\n",
    "        y1=y1[ind]\n",
    "        xp=np.append(xp,x1,axis=0)\n",
    "        yp=np.append(yp,y1,axis=0)\n",
    "    return xp,yp\n"
   ]
  },
  {
   "cell_type": "code",
   "execution_count": 78,
   "metadata": {
    "deletable": false,
    "editable": false,
    "id": "J-tx7fD4mv-G",
    "nbgrader": {
     "cell_type": "code",
     "checksum": "8b66a99f54e3b92d8807239db5c71137",
     "grade": true,
     "grade_id": "cell-961ada4f33acce86",
     "locked": true,
     "points": 10,
     "schema_version": 3,
     "solution": false,
     "task": false
    }
   },
   "outputs": [],
   "source": [
    "# This cell is reserved for the unit tests. Do not consider this cell. "
   ]
  },
  {
   "cell_type": "markdown",
   "metadata": {
    "deletable": false,
    "editable": false,
    "id": "0JIkjmWhmv-G",
    "nbgrader": {
     "cell_type": "markdown",
     "checksum": "cfb8f9f557ed989434f2667e6e06bae3",
     "grade": false,
     "grade_id": "cell-f3301161af5138c6",
     "locked": true,
     "schema_version": 3,
     "solution": false,
     "task": false
    }
   },
   "source": [
    "## Question 2.8\n",
    "\n",
    "The functions created are now going to be applied on the exasens dataset (i.e. you do not need to write anything for this part, it will be run automatically). This is to test that you have succesfully produced all the necessary functions. \n",
    "\n",
    "In the next cell the following test is going to be performed:\n",
    "\n",
    "```python\n",
    "df = load_exasens_data_set()\n",
    "df = add_binned_column(df, col_name='Age', limits=[30,50,60])\n",
    "df = add_class(df, col_name='Diagnosis')\n",
    "df = replace_missing_with_conditional_mean(df, condition_cols=['Smoking','Gender','Age_bin'], cols=['Imaginary_Part_Min','Imaginary_Part_Avg','Real_Part_Min', 'Real_Part_Avg'])\n",
    "\n",
    "# extract the data matrix: X, the class vector: y and the missing elements array: is_missing\n",
    "# ...\n",
    "\n",
    "Xp = replace_missing_with_approximation(X, is_missing, r=2)\n",
    "Xc,yc = remove_outliers(Xp,y, threshold=5)\n",
    "assert Xc.shape[0] < (?), 'The number of instances selected as non outliers should be less than (?)'\n",
    "\n",
    "```"
   ]
  },
  {
   "cell_type": "code",
   "execution_count": 79,
   "metadata": {
    "deletable": false,
    "editable": false,
    "id": "UqunRfEJmv-G",
    "nbgrader": {
     "cell_type": "code",
     "checksum": "6da4b0450aff3765551d36bc4fa3f574",
     "grade": true,
     "grade_id": "cell-0d3168a7bb90e75b",
     "locked": true,
     "points": 4,
     "schema_version": 3,
     "solution": false,
     "task": false
    }
   },
   "outputs": [],
   "source": [
    "# This cell is reserved for the unit tests. Do not consider this cell. "
   ]
  },
  {
   "cell_type": "markdown",
   "metadata": {
    "deletable": false,
    "editable": false,
    "id": "SanUR1Xbmv-J",
    "nbgrader": {
     "cell_type": "markdown",
     "checksum": "7cb29ca32fb1fc903dcb63e5dfae08b3",
     "grade": false,
     "grade_id": "cell-1858a2919c4e20d5",
     "locked": true,
     "schema_version": 3,
     "solution": false,
     "task": false
    }
   },
   "source": [
    "# Part 3\n",
    "\n",
    "\n",
    "**Aim:** demonstrate an understanding of LDA. \n",
    "\n",
    "In this exercise you will need to build a dataset using the `multivariate_normal` function provided by the numpy library. You will then fit a multiclass LDA model to your data and finally you will display the decision boundaries of the trained predictive model and measure the accuracy of the resulting classifier. \n",
    "\n",
    "\n",
    "**Construction of the dataset:**\n",
    "\n",
    "Given a parameter `k`, the dataset is generated using `k` multi variate normal data generators. All instances are 2 dimensional. \n",
    "\n",
    "\n",
    "At the end for `make_data(k=5, num_instances=1000, radius=10, ratio=2, rotation=0)` you should obtain something like this:\n",
    "\n",
    "\n",
    "<center><img src=\"dat.png\" alt=\"ex\" width=\"400\"/></center>\n",
    "\n",
    "\n",
    "**LDA classifier:**\n",
    "\n",
    "At the end your implementation of the LDA classifier should allow you to obtain something like this:\n",
    "\n",
    "\n",
    "<center><img src=\"lda.png\" alt=\"ex\" width=\"400\"/></center>\n",
    "\n",
    "\n",
    "In this exercise data matrices are considered row-wise, that is a data matrix for `m` instances is a `m x n` matrix consisting of `m` vectors in `n` dimensions."
   ]
  },
  {
   "cell_type": "markdown",
   "metadata": {
    "deletable": false,
    "editable": false,
    "id": "-HZolJsrmv-J",
    "nbgrader": {
     "cell_type": "markdown",
     "checksum": "0d2b9c1cbab4451809e5a2927b891858",
     "grade": false,
     "grade_id": "cell-19419beea5632a9b",
     "locked": true,
     "schema_version": 3,
     "solution": false,
     "task": false
    }
   },
   "source": [
    "## Question 3.1\n",
    "\n",
    "Write a function `make_means(k, radius)` that outputs a data matrix containing the 2D coordinates of `k` means.  The means of the data generator must lie on the vertices of a regular polygon (if `k=3` the polygon is a triangle, if `k=6` it is an hexagon, etc). Write your own code to determine the position of the vertices of a regular polygon given a radius value in input.\n",
    "\n",
    "For example `make_means(3, radius=1)` would yield:\n",
    "```\n",
    "[[ 1. ,  0.       ],\n",
    "[-0.5 ,  0.8660254],\n",
    "[-0.5 , -0.8660254]]\n",
    "```\n",
    "\n",
    " *Hint: you can use your knowledge on linear transformations (e.g. rotations).*  "
   ]
  },
  {
   "cell_type": "code",
   "execution_count": 80,
   "metadata": {
    "deletable": false,
    "id": "auCH_kD-mv-J",
    "nbgrader": {
     "cell_type": "code",
     "checksum": "836438abe530d2d8130002683bb34a33",
     "grade": false,
     "grade_id": "cell-3214644003f0dc17",
     "locked": false,
     "schema_version": 3,
     "solution": true,
     "task": false
    }
   },
   "outputs": [],
   "source": [
    "def make_means(k, radius):\n",
    "    means_mat = np.mat(np.zeros(k*2).reshape(k,2))\n",
    "    A = rotate((360/k))\n",
    "    means_mat[0,0] = radius\n",
    "    for i in range(1,k):\n",
    "        means_mat[i] = means_mat[i-1] * A\n",
    "    return means_mat\n",
    "    \n",
    "def rotate(deg):\n",
    "    theta = deg * np.pi/180.0\n",
    "    A = [[np.cos(theta), -np.sin(theta)],[np.sin(theta), np.cos(theta)]]\n",
    "    return np.mat(A)\n"
   ]
  },
  {
   "cell_type": "code",
   "execution_count": 81,
   "metadata": {
    "deletable": false,
    "editable": false,
    "id": "GEapp7R3mv-K",
    "nbgrader": {
     "cell_type": "code",
     "checksum": "212c69bb711d0001c80edcff0e318484",
     "grade": true,
     "grade_id": "cell-b2b21984d8ae0f0f",
     "locked": true,
     "points": 3,
     "schema_version": 3,
     "solution": false,
     "task": false
    }
   },
   "outputs": [],
   "source": [
    "# This cell is reserved for the unit tests. Do not consider this cell. "
   ]
  },
  {
   "cell_type": "markdown",
   "metadata": {
    "deletable": false,
    "editable": false,
    "id": "ulPwwHF_mv-K",
    "nbgrader": {
     "cell_type": "markdown",
     "checksum": "4faed6eae68dde3ef90b2f76e884e71a",
     "grade": false,
     "grade_id": "cell-66f235f8127ae379",
     "locked": true,
     "schema_version": 3,
     "solution": false,
     "task": false
    }
   },
   "source": [
    "## Question 3.2\n",
    "\n",
    "Write a function `make_covariance(ratio, rotation)` to build a covariance matrix.\n",
    "The covariance matrix is constructed by specifying 2 parameters: a `ratio` between the two main directions of variability (if the ratio is, say, 2:1, then the parameter is 2); and a `rotation` in degrees (i.e. 90 for a right angle) to determine the main *direction* of variability. \n",
    "\n",
    "*Example:* If the ratio is 2 and the rotation is 0 your covariance matrix will be:\n",
    "```[[4., 0.],\n",
    " [0., 1.]]```\n",
    "\n",
    "*Example:* If the ratio is 2 and the rotation is 45 your covariance matrix will be:\n",
    "\n",
    "```[[2.5, 1.5],\n",
    " [1.5, 2.5]]```"
   ]
  },
  {
   "cell_type": "code",
   "execution_count": 82,
   "metadata": {
    "deletable": false,
    "id": "vh5Dfxn2mv-K",
    "nbgrader": {
     "cell_type": "code",
     "checksum": "d7e5ea88e5bc9158301d22106098b197",
     "grade": false,
     "grade_id": "cell-f694e600f9cc60f7",
     "locked": false,
     "schema_version": 3,
     "solution": true,
     "task": false
    }
   },
   "outputs": [],
   "source": [
    "def make_covariance(ratio, rotation):\n",
    "    R = rotate(rotation)\n",
    "    S = np.mat([[ratio,0],[0,1]])\n",
    "    T = R * S\n",
    "    return T * T.T"
   ]
  },
  {
   "cell_type": "code",
   "execution_count": 83,
   "metadata": {
    "deletable": false,
    "editable": false,
    "id": "tu1S8NTumv-L",
    "nbgrader": {
     "cell_type": "code",
     "checksum": "4b24e98015f2ab12220eca9bdf2a63b0",
     "grade": true,
     "grade_id": "cell-bf02889b8c77d733",
     "locked": true,
     "points": 3,
     "schema_version": 3,
     "solution": false,
     "task": false
    }
   },
   "outputs": [],
   "source": [
    "# This cell is reserved for the unit tests. Do not consider this cell. "
   ]
  },
  {
   "cell_type": "markdown",
   "metadata": {
    "deletable": false,
    "editable": false,
    "id": "YZOibmjLmv-L",
    "nbgrader": {
     "cell_type": "markdown",
     "checksum": "7946e514c5458e1e190c6941f5b32413",
     "grade": false,
     "grade_id": "cell-b52509af69a86c3f",
     "locked": true,
     "schema_version": 3,
     "solution": false,
     "task": false
    }
   },
   "source": [
    "## Question 3.3\n",
    "\n",
    "Write a function `make_data(k, num_instances, radius, ratio, rotation)` to output a data matrix and a one dimensional class vector.\n",
    "\n",
    "Using the previous functions generate a data matrix with `num_instances` rows and 2 columns and a `targets` vector of length `num_instances` containing a class indicator for each instance (i.e. an integer between 0 and k-1). \n",
    "\n",
    "The function takes in input the number of classes `k`, the total number of instances `num_instances`, the parameter `radius` to express the distance from the origin for the means of the multi variate normal data generators, and finally the `ratio` and the `rotation` as specified previously for the `make_covariance` function."
   ]
  },
  {
   "cell_type": "code",
   "execution_count": 84,
   "metadata": {
    "deletable": false,
    "id": "SkRE2lAymv-M",
    "nbgrader": {
     "cell_type": "code",
     "checksum": "2abf011746f7550d42dc92c4cbfe48bf",
     "grade": false,
     "grade_id": "cell-62edb01fbf66a7a7",
     "locked": false,
     "schema_version": 3,
     "solution": true,
     "task": false
    }
   },
   "outputs": [],
   "source": [
    "def make_data(k, num_instances, radius, ratio, rotation):\n",
    "    mu = make_means(k,radius)\n",
    "    Ds = [np.random.multivariate_normal(mean=mu[i].flat,cov=make_covariance(ratio, rotation), size=num_instances) for i in range(k)]\n",
    "    X = np.vstack(Ds)\n",
    "    y = np.hstack([[i]*D.shape[0] for i, D in enumerate(Ds)])\n",
    "    return np.mat(X),y.reshape(-1)\n"
   ]
  },
  {
   "cell_type": "code",
   "execution_count": 85,
   "metadata": {
    "deletable": false,
    "editable": false,
    "id": "3lYhXCq1mv-R",
    "nbgrader": {
     "cell_type": "code",
     "checksum": "f7e597cfa582db204d6d8a88657149b0",
     "grade": true,
     "grade_id": "cell-c6f21aafc1c39553",
     "locked": true,
     "points": 2,
     "schema_version": 3,
     "solution": false,
     "task": false
    }
   },
   "outputs": [],
   "source": [
    "# This cell is reserved for the unit tests. Do not consider this cell. "
   ]
  },
  {
   "cell_type": "markdown",
   "metadata": {
    "deletable": false,
    "editable": false,
    "id": "cKl5g6y0mv-S",
    "nbgrader": {
     "cell_type": "markdown",
     "checksum": "6fd235f0cab2d4c531d7b6a0a17093c0",
     "grade": false,
     "grade_id": "cell-d9a04dd6cfb8d72d",
     "locked": true,
     "schema_version": 3,
     "solution": false,
     "task": false
    }
   },
   "source": [
    "## Question 3.4\n",
    "\n",
    "Write the function `fit_LDA(X, y)`. The function outputs a the parameters for a LDA classifier fit for the classification of the required number of classes. The number of classes will be automatically deduced from the `y` class vector.\n",
    "\n",
    "\n",
    "Write the function `test_LDA(data_matrix, params)` to output the class predicted by the LDA model encoded in `param`. \n",
    "\n",
    "You must write your own implementation of LDA. Do not use the implementation in the library `scikit` or `numpy` or any other library. \n",
    "\n",
    "**Note:** the classification task here is multi-class *not* binary."
   ]
  },
  {
   "cell_type": "code",
   "execution_count": 86,
   "metadata": {
    "deletable": false,
    "id": "9O9LXkeYmv-S",
    "nbgrader": {
     "cell_type": "code",
     "checksum": "06c6da19dc2e1840d51736f27c710142",
     "grade": false,
     "grade_id": "cell-34483aaadffb3d57",
     "locked": false,
     "schema_version": 3,
     "solution": true,
     "task": false
    }
   },
   "outputs": [],
   "source": [
    "def fit_LDA(X, y):\n",
    "    classesLen = len(np.unique(y))\n",
    "    pi=[] \n",
    "    mu = [] \n",
    "    COV = []\n",
    "    for i in range(classesLen):\n",
    "        D = X[y==i]\n",
    "        p,m,cov = LDA_factors(D,X.shape[0])\n",
    "        pi.append(p)\n",
    "        mu.append(m)\n",
    "        COV.append(cov)\n",
    "    C=[]\n",
    "    W=[]\n",
    "    for i in range(classesLen-1): \n",
    "        for j in range(i+1,classesLen):\n",
    "            S = np.mat((COV[i]+COV[j])/2)\n",
    "            SI = S.I\n",
    "            w = SI*(mu[i]-mu[j])\n",
    "            c = np.log(pi[i]/pi[j]) -0.5 *mu[i].T * SI * mu[i] +0.5 *mu[j].T * SI * mu[j]\n",
    "            W.append(w)\n",
    "            C.append(c)\n",
    "    return W,C,classesLen\n",
    "    \n",
    "def test_LDA(X, *params):\n",
    "    W =params[0][0]\n",
    "    C =params[0][1]\n",
    "    classLen =params[0][2]\n",
    "    votes = np.zeros(len(W)*len(X)).reshape(len(W),len(X))\n",
    "    k=0\n",
    "    for i in range(classLen-1): \n",
    "        for j in range(i+1,classLen):\n",
    "            result = (X * W[k] > -C[k]).astype(int).A.reshape(-1)\n",
    "            votes[k,result==1] = int(i)\n",
    "            votes[k,result==0] = int(j)\n",
    "            k += 1\n",
    "    votes = votes.astype(int)\n",
    "    return [np.argmax(np.bincount(votes[:,i])) for i in range(votes.shape[1])]\n",
    "\n",
    "      \n",
    "def LDA_factors(D,N):\n",
    "    pi = D.shape[0]/N\n",
    "    mu = np.mat(np.mean(D,axis=0)).reshape(-1,1)\n",
    "    C = np.mat(D-np.mean(D,axis=0))\n",
    "    S = C.T*C/(D.shape[0]-1)\n",
    "    return pi,mu,S\n",
    "\n"
   ]
  },
  {
   "cell_type": "code",
   "execution_count": 87,
   "metadata": {
    "deletable": false,
    "editable": false,
    "id": "Bw-ZRh4Kmv-S",
    "nbgrader": {
     "cell_type": "code",
     "checksum": "4abdea1a0460dad8398ad03774976932",
     "grade": true,
     "grade_id": "cell-d81ca612eafc9f47",
     "locked": true,
     "points": 10,
     "schema_version": 3,
     "solution": false,
     "task": false
    }
   },
   "outputs": [],
   "source": [
    "# This cell is reserved for the unit tests. Do not consider this cell. "
   ]
  },
  {
   "cell_type": "markdown",
   "metadata": {
    "deletable": false,
    "editable": false,
    "id": "KvnI5roVmv-T",
    "nbgrader": {
     "cell_type": "markdown",
     "checksum": "a96893940b85324d1729e7c75e39bf27",
     "grade": false,
     "grade_id": "cell-457d1e0a35d33df8",
     "locked": true,
     "schema_version": 3,
     "solution": false,
     "task": false
    }
   },
   "source": [
    "## Question 3.5\n",
    "\n",
    "Write a function `make_grid(D, n)` to generate instances regularly spaced in 2D. The function takes in input a data matrix `D` to extract the limits, and a parameter `n` to specify the number of points per side, e.g. with `n=10` a grid of 100 points is generated. "
   ]
  },
  {
   "cell_type": "code",
   "execution_count": 88,
   "metadata": {
    "deletable": false,
    "id": "NsVJjJIFmv-T",
    "nbgrader": {
     "cell_type": "code",
     "checksum": "c6b9ee4b07f877ffd9064c858f8867bd",
     "grade": false,
     "grade_id": "cell-02c00203a78eff9b",
     "locked": false,
     "schema_version": 3,
     "solution": true,
     "task": false
    }
   },
   "outputs": [],
   "source": [
    "def make_grid(D, n=10):\n",
    "    mn = np.min(D.A,axis=0).reshape(-1)\n",
    "    mx = np.max(D.A,axis=0).reshape(-1)\n",
    "    dat1 = np.linspace(mn[0],mx[0],n)\n",
    "    dat2 = np.linspace(mn[1],mx[1],n)\n",
    "    grid = [(x1,x2) for x1 in dat1  for x2 in dat2]\n",
    "    grid = np.mat(grid)\n",
    "    return grid"
   ]
  },
  {
   "cell_type": "code",
   "execution_count": 89,
   "metadata": {
    "deletable": false,
    "editable": false,
    "id": "Q0p4mfYWmv-U",
    "nbgrader": {
     "cell_type": "code",
     "checksum": "563bc532116762b861977d008342ce04",
     "grade": true,
     "grade_id": "cell-a90619ba1328a8db",
     "locked": true,
     "points": 3,
     "schema_version": 3,
     "solution": false,
     "task": false
    }
   },
   "outputs": [],
   "source": [
    "# This cell is reserved for the unit tests. Do not consider this cell. "
   ]
  },
  {
   "cell_type": "markdown",
   "metadata": {
    "deletable": false,
    "editable": false,
    "id": "2Trrk1dSmv-U",
    "nbgrader": {
     "cell_type": "markdown",
     "checksum": "98fa1476737ff1b842b4cd96bf707210",
     "grade": false,
     "grade_id": "cell-fe0dc885078e7b00",
     "locked": true,
     "schema_version": 3,
     "solution": false,
     "task": false
    }
   },
   "source": [
    "## Question 3.6\n",
    "\n",
    "Write a function `accuracy(y_true, y_pred)` to compute the fraction of correct predictions over the total number of predictions."
   ]
  },
  {
   "cell_type": "code",
   "execution_count": 90,
   "metadata": {
    "deletable": false,
    "id": "fT6JxdxGmv-W",
    "nbgrader": {
     "cell_type": "code",
     "checksum": "f06e457525ff192f08abcb3741321969",
     "grade": false,
     "grade_id": "cell-2b0a7a72604588a6",
     "locked": false,
     "schema_version": 3,
     "solution": true,
     "task": false
    }
   },
   "outputs": [],
   "source": [
    "def accuracy(y_true, y_pred):\n",
    "    return np.sum(y_true==y_pred)/len(y_pred)"
   ]
  },
  {
   "cell_type": "code",
   "execution_count": 91,
   "metadata": {
    "deletable": false,
    "editable": false,
    "id": "N1icuw1Vmv-W",
    "nbgrader": {
     "cell_type": "code",
     "checksum": "42ed1adf1922fb4af96043715e25e97b",
     "grade": true,
     "grade_id": "cell-20d6a1dd56d2a05d",
     "locked": true,
     "points": 3,
     "schema_version": 3,
     "solution": false,
     "task": false
    }
   },
   "outputs": [],
   "source": [
    "# This cell is reserved for the unit tests. Do not consider this cell. "
   ]
  },
  {
   "cell_type": "markdown",
   "metadata": {
    "deletable": false,
    "editable": false,
    "id": "JCTayLlhmv-W",
    "nbgrader": {
     "cell_type": "markdown",
     "checksum": "64fae55cc368b998f95ea2a2b7998cb6",
     "grade": false,
     "grade_id": "cell-5e665d6106705a36",
     "locked": true,
     "schema_version": 3,
     "solution": false,
     "task": false
    }
   },
   "source": [
    "## Question 3.7\n",
    "\n",
    "Write a function `plot_data_and_grid(X,y,G,preds)` to visualize the results, where `X` is the data matrix, `y` is the class vector, `G` is a data matrix containing the grid vectors and `preds` is a vector containing the class predictions for the grid data points.  "
   ]
  },
  {
   "cell_type": "code",
   "execution_count": 92,
   "metadata": {
    "colab": {
     "base_uri": "https://localhost:8080/",
     "height": 536
    },
    "deletable": false,
    "id": "vy5XQeuOmv-X",
    "nbgrader": {
     "cell_type": "code",
     "checksum": "2679851c059bdeca0e84071090eb399b",
     "grade": false,
     "grade_id": "cell-2c67a569e043bda0",
     "locked": false,
     "schema_version": 3,
     "solution": true,
     "task": false
    },
    "outputId": "fc66b695-b258-4508-e7c9-7144cd623f94"
   },
   "outputs": [],
   "source": [
    "def plot_data_and_grid(X,y,G,preds):\n",
    "    X2 = np.vstack([X,G])\n",
    "    y2 = np.hstack([y,preds])\n",
    "    plot(X2,y2)\n"
   ]
  },
  {
   "cell_type": "code",
   "execution_count": 93,
   "metadata": {
    "deletable": false,
    "editable": false,
    "id": "VrCxNg11mv-X",
    "nbgrader": {
     "cell_type": "code",
     "checksum": "b0740d9d24871134578a8973dbb3ea47",
     "grade": true,
     "grade_id": "cell-f8ff2cc2ecbedae4",
     "locked": true,
     "points": 3,
     "schema_version": 3,
     "solution": false,
     "task": false
    }
   },
   "outputs": [],
   "source": [
    "# This cell is reserved for the unit tests. Do not consider this cell. "
   ]
  },
  {
   "cell_type": "markdown",
   "metadata": {
    "deletable": false,
    "editable": false,
    "id": "7cMnUtQzmv-X",
    "nbgrader": {
     "cell_type": "markdown",
     "checksum": "f3bdb283db4efe3e9eb481461ed3ee95",
     "grade": false,
     "grade_id": "cell-3851f909a9a9d5af",
     "locked": true,
     "schema_version": 3,
     "solution": false,
     "task": false
    }
   },
   "source": [
    "## Question 3.8\n",
    "\n",
    "The functions created are now going to be applied on the artificial dataset (i.e. you do not need to write anything for this part, it will be run automatically). This is to test that you have succesfully produced all the necessary functions. \n",
    "\n",
    "In the next cell the following test is going to be performed:\n",
    "\n",
    "```python\n",
    "D,targets = make_data(k=?, num_instances=?, radius=?, ratio=?, rotation=?)\n",
    "G = make_grid(D,n=60)\n",
    "LDA_params = fit_LDA(D,targets)\n",
    "preds = test_LDA(G, LDA_params)\n",
    "assert \"... the accuracy should be (?) ...\"\n",
    "\n",
    "```"
   ]
  },
  {
   "cell_type": "code",
   "execution_count": 94,
   "metadata": {
    "deletable": false,
    "editable": false,
    "id": "dntU2Hjzmv-k",
    "nbgrader": {
     "cell_type": "code",
     "checksum": "565799c70bea5152ba02df8cf93c1d93",
     "grade": true,
     "grade_id": "cell-c95ac305e8ce3c5b",
     "locked": true,
     "points": 3,
     "schema_version": 3,
     "solution": false,
     "task": false
    }
   },
   "outputs": [],
   "source": [
    "# This cell is reserved for the unit tests. Do not consider this cell. "
   ]
  }
 ],
 "metadata": {
  "colab": {
   "collapsed_sections": [],
   "name": "ca2.ipynb",
   "provenance": []
  },
  "kernelspec": {
   "display_name": "Python 3",
   "language": "python",
   "name": "python3"
  },
  "language_info": {
   "codemirror_mode": {
    "name": "ipython",
    "version": 3
   },
   "file_extension": ".py",
   "mimetype": "text/x-python",
   "name": "python",
   "nbconvert_exporter": "python",
   "pygments_lexer": "ipython3",
   "version": "3.8.3"
  }
 },
 "nbformat": 4,
 "nbformat_minor": 1
}