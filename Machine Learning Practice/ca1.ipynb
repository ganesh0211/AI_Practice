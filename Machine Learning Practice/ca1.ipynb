{
 "cells": [
  {
   "cell_type": "markdown",
   "metadata": {
    "deletable": false,
    "editable": false,
    "nbgrader": {
     "cell_type": "markdown",
     "checksum": "ce4c1f8cec13589200d79fb30e42dc13",
     "grade": false,
     "grade_id": "cell-11fe0ac8a0e8c08a",
     "locked": true,
     "schema_version": 3,
     "solution": false,
     "task": false
    }
   },
   "source": [
    "# ECMM422 Machine Learning\n",
    "## Course Assessment 1\n",
    "\n",
    "\n",
    "This course assessment (CA1) represents 40% of the overall module assessment.\n",
    "\n",
    "This is an individual exercise and your attention is drawn to the College and University guidelines on collaboration and plagiarism, which are available from the College website.\n",
    "\n",
    "\n",
    "**Note:**\n",
    "1. do not change the name of this notebook, i.e. the notebook file has to be named: ca1.ipynb\n",
    "2. do not remove/delete any cell\n",
    "3. do not add any cell (you can work on a draft notebook and only copy the function implementations here)\n",
    "4. do not add you name or student code in the notebook or in the file name\n",
    "\n",
    "**Evaluation criteria:**\n",
    "\n",
    "Each question asks for one or more functions to be implemented. \n",
    "\n",
    "Each question is awarded a number of marks. \n",
    "\n",
    "A (hidden) unit test is going to evaluate if all desired properties of the required function(s) are met. \n",
    "\n",
    "If the test passes all the associated marks are awarded, if it fails 0 marks are awarded. The large number of questions allows a fine grading. "
   ]
  },
  {
   "cell_type": "markdown",
   "metadata": {
    "deletable": false,
    "editable": false,
    "nbgrader": {
     "cell_type": "markdown",
     "checksum": "471ed08cb1ff23ff4f427e915aca8c57",
     "grade": false,
     "grade_id": "cell-b7361becee158bc9",
     "locked": true,
     "schema_version": 3,
     "solution": false,
     "task": false
    }
   },
   "source": [
    "## Notes:\n",
    "\n",
    "In the rest of the notebook, the term `data matrix` refers to a two dimensional numpy array where instances are encoded as rows, e.g. a data matrix with 100 rows and 4 columns is to be interpreted as a collection of 100 instances each with four features.  \n",
    "\n",
    "When a required function can be implemented directly by a library function it is intended that the candidate should write her own implementation of the function, e.g. a function to compute the accuracy or the cross validation.\n",
    "\n",
    "Some questions are just a check-point, i.e. it is for you to see that you are correctly implementing all functions. Since those check-points use functions that you have already implemented and that have already been marked, those questions are not going to be marked (i.e. they appear as having marks 0)."
   ]
  },
  {
   "cell_type": "code",
   "execution_count": null,
   "metadata": {
    "deletable": false,
    "editable": false,
    "nbgrader": {
     "cell_type": "code",
     "checksum": "e3a00209e164c682d67f524b231691fb",
     "grade": false,
     "grade_id": "cell-9e614a36d5268220",
     "locked": true,
     "schema_version": 3,
     "solution": false,
     "task": false
    }
   },
   "outputs": [],
   "source": [
    "%matplotlib inline\n",
    "import matplotlib.pyplot as plt\n",
    "import numpy as np\n",
    "import scipy as sp\n",
    "\n",
    "# unit test utilities: you can ignore these function\n",
    "def is_approximately_equal(test,target,eps=1e-2):\n",
    "    return np.mean(np.fabs(np.array(test) - np.array(target)))<eps\n",
    "\n",
    "def assert_test_equality(test, target):\n",
    "    assert is_approximately_equal(test, target), 'Expected:\\n %s \\nbut got:\\n %s'%(target, test)"
   ]
  },
  {
   "cell_type": "markdown",
   "metadata": {
    "deletable": false,
    "editable": false,
    "nbgrader": {
     "cell_type": "markdown",
     "checksum": "0dde41f92152ce1720120289dc716ef1",
     "grade": false,
     "grade_id": "cell-41308c8fadb8d614",
     "locked": true,
     "schema_version": 3,
     "solution": false,
     "task": false
    }
   },
   "source": [
    "## Question 1  [marks 6]\n",
    "\n",
    "a) Make a function `data_matrix = make_data_classification(mean, std, n_centres, inner_std, n_samples, random_seed=42)` to create a data matrix according to the following rules:\n",
    "1. `mean` is a n-dimensional vector (say [1,1], but the function should allow vectors of any dimension)\n",
    "2. `n_centres` is the number of centres (say 3) \n",
    "3. `std` is the standard deviation (say 1)\n",
    "4. the centres are sampled from a Normal distribution with mean `mean` and standard deviation `std`\n",
    "5. from each centre sample `n_samples` from a Normal distribution with the centre as the mean and standard deviation `inner_std`\n",
    "so if `mean=[1,1]` `n_centres=3` and `n_samples=10` then the data matrix will be a 30 rows x 2 columns numpy array.\n",
    "\n",
    "b) Make a function `data_matrix, targets = make_data_regression(mean, std, n_centres, inner_std, n_samples_list, random_seed=42)` to create a data matrix  and a target vector according to the following rules:\n",
    "1. the data matrix is constructed in the same way as in `make_data_classification`\n",
    "2. the targets are the Euclidean distance between the sample and the centre of the generating Normal distribution\n",
    "\n",
    "See Question 3 for a graphical example of the expected output."
   ]
  },
  {
   "cell_type": "code",
   "execution_count": null,
   "metadata": {
    "deletable": false,
    "nbgrader": {
     "cell_type": "code",
     "checksum": "ae5712ffbdbc5ffb8119d10c6e0cd274",
     "grade": false,
     "grade_id": "cell-49b50402b19eacea",
     "locked": false,
     "schema_version": 3,
     "solution": true,
     "task": false
    }
   },
   "outputs": [],
   "source": [
    "def make_data_classification(mean, std, n_centres, inner_std, n_samples, random_seed=42):\n",
    "    # YOUR CODE HERE\n",
    "    raise NotImplementedError()\n",
    "\n",
    "def make_data_regression(mean, std, n_centres, inner_std, n_samples, random_seed=42):\n",
    "    # YOUR CODE HERE\n",
    "    raise NotImplementedError()"
   ]
  },
  {
   "cell_type": "code",
   "execution_count": null,
   "metadata": {
    "deletable": false,
    "editable": false,
    "nbgrader": {
     "cell_type": "code",
     "checksum": "436a06a7c59628ba72548fe773c18388",
     "grade": true,
     "grade_id": "cell-fbf0bfd58ace420a",
     "locked": true,
     "points": 3,
     "schema_version": 3,
     "solution": false,
     "task": false
    }
   },
   "outputs": [],
   "source": [
    "# This cell is reserved for the unit tests. Do not consider this cell. "
   ]
  },
  {
   "cell_type": "code",
   "execution_count": null,
   "metadata": {
    "deletable": false,
    "editable": false,
    "nbgrader": {
     "cell_type": "code",
     "checksum": "9f1550f44b5e91700b7015dccd169b2e",
     "grade": true,
     "grade_id": "cell-633aa20749b2a6b8",
     "locked": true,
     "points": 3,
     "schema_version": 3,
     "solution": false,
     "task": false
    }
   },
   "outputs": [],
   "source": [
    "# This cell is reserved for the unit tests. Do not consider this cell. "
   ]
  },
  {
   "cell_type": "markdown",
   "metadata": {
    "deletable": false,
    "editable": false,
    "nbgrader": {
     "cell_type": "markdown",
     "checksum": "da87da90ee13556a0ded0e49b29240ad",
     "grade": false,
     "grade_id": "cell-59fc19051b0b0921",
     "locked": true,
     "schema_version": 3,
     "solution": false,
     "task": false
    }
   },
   "source": [
    "## Question 2  [marks 2]\n",
    "\n",
    "a) Make a function `data_matrix, targets = get_dataset_classification(n_samples, std, inner_std)` to create a data matrix and a target vector for a binary classification problem according to the following rules:\n",
    "- the instances from the positive class are generated according to the same rules provided for `make_data_classification`; so are the instances from the negative class \n",
    "- instances from the positive class have as mean the vector [10,10] and those from the negative class, vector [-10,-10]\n",
    "- the number of centres is fixed to 3\n",
    "- the random seed is fixed to 42\n",
    "- `n_samples` indicates the total number of instances finally available in the output `data_matrix`\n",
    "\n",
    "b) Make a function `data_matrix, targets = get_dataset_regression(n_samples, std, inner_std)` to create a data matrix according to the following rules:\n",
    "- the instances are generated according to the same rules provided for `make_data_regression`\n",
    "- the targets are generated according to the same rules provided for `make_data_regression`\n",
    "- instances have as mean the vector [10,10]\n",
    "- the number of centres is fixed to 3\n",
    "- the random seed is fixed to 42\n",
    "- `n_samples` indicates the total number of instances finally available in the output `data_matrix`"
   ]
  },
  {
   "cell_type": "code",
   "execution_count": null,
   "metadata": {
    "deletable": false,
    "nbgrader": {
     "cell_type": "code",
     "checksum": "8a76bbf84050e15f32ffc49e1437e390",
     "grade": false,
     "grade_id": "cell-bff4bb4a60f18d71",
     "locked": false,
     "schema_version": 3,
     "solution": true,
     "task": false
    }
   },
   "outputs": [],
   "source": [
    "def get_dataset_classification(n_samples, std, inner_std):\n",
    "    # YOUR CODE HERE\n",
    "    raise NotImplementedError()\n",
    "\n",
    "def get_dataset_regression(n_samples, std, inner_std):\n",
    "    # YOUR CODE HERE\n",
    "    raise NotImplementedError()"
   ]
  },
  {
   "cell_type": "code",
   "execution_count": null,
   "metadata": {
    "deletable": false,
    "editable": false,
    "nbgrader": {
     "cell_type": "code",
     "checksum": "6f5999d4363224881986e5f1e0e78632",
     "grade": true,
     "grade_id": "cell-315a764eecd939ce",
     "locked": true,
     "points": 2,
     "schema_version": 3,
     "solution": false,
     "task": false
    }
   },
   "outputs": [],
   "source": [
    "# This cell is reserved for the unit tests. Do not consider this cell. "
   ]
  },
  {
   "cell_type": "markdown",
   "metadata": {
    "deletable": false,
    "editable": false,
    "nbgrader": {
     "cell_type": "markdown",
     "checksum": "d15ce68d8df4f9234316e57318087534",
     "grade": false,
     "grade_id": "cell-a9f40b54d4638aae",
     "locked": true,
     "schema_version": 3,
     "solution": false,
     "task": false
    }
   },
   "source": [
    "## Question 3  [marks 1]\n",
    "\n",
    "Make a function `plot(X,y)` to display the scatter plot of a data matrix of two dimensional instances using the array `y` to assign the colour to the instances.\n",
    "\n",
    "\n",
    "When running \n",
    "\n",
    "```python\n",
    "X, y = get_dataset_regression(n_samples=600, std=30, inner_std=5)\n",
    "plot(X,y)\n",
    "```\n",
    "you should get something like\n",
    "\n",
    "<img src='plot3.png' width=300>\n",
    "\n",
    "and when running\n",
    "\n",
    "```python\n",
    "X, y = get_dataset_classification(n_samples=600, std=30, inner_std=5)\n",
    "plot(X,y)\n",
    "```\n",
    "you should get something like\n",
    "\n",
    "<img src='plot3b.png' width=300>"
   ]
  },
  {
   "cell_type": "code",
   "execution_count": null,
   "metadata": {
    "deletable": false,
    "nbgrader": {
     "cell_type": "code",
     "checksum": "650ac49d731f15d497caf36d43c2f8a9",
     "grade": false,
     "grade_id": "cell-c03ec4203ec30067",
     "locked": false,
     "schema_version": 3,
     "solution": true,
     "task": false
    }
   },
   "outputs": [],
   "source": [
    "def plot(X,y):\n",
    "    # YOUR CODE HERE\n",
    "    raise NotImplementedError()"
   ]
  },
  {
   "cell_type": "code",
   "execution_count": null,
   "metadata": {
    "deletable": false,
    "editable": false,
    "nbgrader": {
     "cell_type": "code",
     "checksum": "ba4bc39cbbc1f2c95cdba9d7fc966b02",
     "grade": true,
     "grade_id": "cell-8ce0d987b11efe97",
     "locked": true,
     "points": 1,
     "schema_version": 3,
     "solution": false,
     "task": false
    }
   },
   "outputs": [],
   "source": [
    "# This cell is reserved for the unit tests. Do not consider this cell. "
   ]
  },
  {
   "cell_type": "markdown",
   "metadata": {
    "deletable": false,
    "editable": false,
    "nbgrader": {
     "cell_type": "markdown",
     "checksum": "1bc5ec9680b32564a8f73c81cea12468",
     "grade": false,
     "grade_id": "cell-3994e5b1f6dd1986",
     "locked": true,
     "schema_version": 3,
     "solution": false,
     "task": false
    }
   },
   "source": [
    "## Question 4  [marks 1]\n",
    "\n",
    "Make a function `classification_error(targets, preds)` to compute the fraction of times that the entries in `targets` do not agree with the corresponding entries in `preds`.\n",
    "\n",
    "**Note:** do not use library functions to compute the result directly but implement your own version."
   ]
  },
  {
   "cell_type": "code",
   "execution_count": null,
   "metadata": {
    "deletable": false,
    "nbgrader": {
     "cell_type": "code",
     "checksum": "1c3b697b4e5c6a79acc56b3a33c2e7ce",
     "grade": false,
     "grade_id": "cell-38283b8cd78fca31",
     "locked": false,
     "schema_version": 3,
     "solution": true,
     "task": false
    }
   },
   "outputs": [],
   "source": [
    "def classification_error(targets, preds):\n",
    "    # YOUR CODE HERE\n",
    "    raise NotImplementedError()"
   ]
  },
  {
   "cell_type": "code",
   "execution_count": null,
   "metadata": {
    "deletable": false,
    "editable": false,
    "nbgrader": {
     "cell_type": "code",
     "checksum": "47f810f07baf8b3e2e83ffed54a909a9",
     "grade": true,
     "grade_id": "cell-2c4e50d0ec1e9227",
     "locked": true,
     "points": 1,
     "schema_version": 3,
     "solution": false,
     "task": false
    }
   },
   "outputs": [],
   "source": [
    "# This cell is reserved for the unit tests. Do not consider this cell. "
   ]
  },
  {
   "cell_type": "markdown",
   "metadata": {
    "deletable": false,
    "editable": false,
    "nbgrader": {
     "cell_type": "markdown",
     "checksum": "c86fbb9199fbe9ee64006cdaae0e5862",
     "grade": false,
     "grade_id": "cell-569ce08b42229bd0",
     "locked": true,
     "schema_version": 3,
     "solution": false,
     "task": false
    }
   },
   "source": [
    "## Question 5  [marks 2]\n",
    "\n",
    "Make a function `regression_error(targets, preds)` to compute the mean squared error between `targets` and `preds`.\n",
    "\n",
    "$${\\displaystyle \\operatorname {MSE} ={\\frac {1}{n}}\\sum _{i=1}^{n}(T_{i}-{ {P_{i}}})^{2}.}$$\n",
    "\n",
    "**Note:** do not use library functions to compute the result directly but implement your own version."
   ]
  },
  {
   "cell_type": "code",
   "execution_count": null,
   "metadata": {
    "deletable": false,
    "nbgrader": {
     "cell_type": "code",
     "checksum": "fdd5b8ce3d832d1cab61410211fb0273",
     "grade": false,
     "grade_id": "cell-41a05a42202a748d",
     "locked": false,
     "schema_version": 3,
     "solution": true,
     "task": false
    }
   },
   "outputs": [],
   "source": [
    "def regression_error(targets, preds):\n",
    "    # YOUR CODE HERE\n",
    "    raise NotImplementedError()"
   ]
  },
  {
   "cell_type": "code",
   "execution_count": null,
   "metadata": {
    "deletable": false,
    "editable": false,
    "nbgrader": {
     "cell_type": "code",
     "checksum": "697ec2cac2d3194d4823da20999474f2",
     "grade": true,
     "grade_id": "cell-6c6a3122c790388a",
     "locked": true,
     "points": 2,
     "schema_version": 3,
     "solution": false,
     "task": false
    }
   },
   "outputs": [],
   "source": [
    "# This cell is reserved for the unit tests. Do not consider this cell. "
   ]
  },
  {
   "cell_type": "markdown",
   "metadata": {
    "deletable": false,
    "editable": false,
    "nbgrader": {
     "cell_type": "markdown",
     "checksum": "34aaa699e34015f2b5488ebf48901ab1",
     "grade": false,
     "grade_id": "cell-054372fdf9cd01db",
     "locked": true,
     "schema_version": 3,
     "solution": false,
     "task": false
    }
   },
   "source": [
    "## Question 6  [marks 7]\n",
    "\n",
    "Make a function `make_bootstrap(data_matrix, targets)` to extract a bootstrapped replicate of an input dataset. \n",
    "\n",
    "The function should return the following 6 elements (in this order): `bootstrap_data_matrix, bootstrap_targets, bootstrap_sample_ids, oob_data_matrix, oob_targets, oob_samples_ids`, where:\n",
    "1. `bootstrap_data_matrix`: is a data matrix encoding the bootstrapped replicate of the data matrix\n",
    "2. `bootstrap_targets`: is the corresponding bootstrapped replicate of the target vector\n",
    "3. `bootstrap_sample_ids`: is an array containing the instance indices of the bootstrapped replicate of the data matrix\n",
    "4. `oob_data_matrix`: is a data matrix encoding the out of bag instances \n",
    "5. `oob_targets`: is the corresponding out of bag instances of the target vector\n",
    "6. `oob_samples_ids`: is an array containing the instance indices of the out of bag instances "
   ]
  },
  {
   "cell_type": "code",
   "execution_count": null,
   "metadata": {
    "deletable": false,
    "nbgrader": {
     "cell_type": "code",
     "checksum": "c0df64ac3989e98156db1e3f9178c628",
     "grade": false,
     "grade_id": "cell-9820cf66bd156644",
     "locked": false,
     "schema_version": 3,
     "solution": true,
     "task": false
    }
   },
   "outputs": [],
   "source": [
    "def make_bootstrap(data_matrix, targets):\n",
    "    # YOUR CODE HERE\n",
    "    raise NotImplementedError()"
   ]
  },
  {
   "cell_type": "code",
   "execution_count": null,
   "metadata": {
    "deletable": false,
    "editable": false,
    "nbgrader": {
     "cell_type": "code",
     "checksum": "02a587297741dc7101065d25ebb82732",
     "grade": true,
     "grade_id": "cell-d5d05e6a91c17f6e",
     "locked": true,
     "points": 4,
     "schema_version": 3,
     "solution": false,
     "task": false
    }
   },
   "outputs": [],
   "source": [
    "# This cell is reserved for the unit tests. Do not consider this cell. "
   ]
  },
  {
   "cell_type": "code",
   "execution_count": null,
   "metadata": {
    "deletable": false,
    "editable": false,
    "nbgrader": {
     "cell_type": "code",
     "checksum": "c7a8cf3883784c8f626cd377a7354d1a",
     "grade": true,
     "grade_id": "cell-144c51ff934a2f3f",
     "locked": true,
     "points": 3,
     "schema_version": 3,
     "solution": false,
     "task": false
    }
   },
   "outputs": [],
   "source": [
    "# This cell is reserved for the unit tests. Do not consider this cell. "
   ]
  },
  {
   "cell_type": "markdown",
   "metadata": {
    "deletable": false,
    "editable": false,
    "nbgrader": {
     "cell_type": "markdown",
     "checksum": "04dbc2313b5972deb11d0b105d422d6e",
     "grade": false,
     "grade_id": "cell-11d4d0ffcdc7e914",
     "locked": true,
     "schema_version": 3,
     "solution": false,
     "task": false
    }
   },
   "source": [
    "## Question 7  [marks 10]\n",
    "\n",
    "Consider the following functional blueprints `estimator = train(X_train, y_train, param)` and `test(X_test, estimator)`. A function of type `train` takes in input a data matrix `X_train` a target vector `y_train` and a single value `param` (not a list of parameters). A function of type `train` outputs an object that represent an estimator. A function of type `test` takes in input a data matrix `X_test` the fit object `estimator` and outputs the predicted targets.\n",
    "\n",
    "Using this blueprint, write the specialised train and test functions for the following classifiers and regressors (use the function signature provided in the next cell, e.g. `train_ab` for training an adaboost classifier):\n",
    "\n",
    "Classifiers:\n",
    "- a) k-nearest-neighbor: the parameter controls the number of neighbors (you may use KNeighborsClassifier from scikit) `[train_knn, test_knn]`\n",
    "- b) adaboost: the parameter controls the maximal depth of the decision tree uses as weak classifier (you may use the DecisionTreeClassifier from scikit but **you should provide your own implementation of the boosting algorithm**) `[train_ab, test_ab]`\n",
    "- c) random forest: the parameter controls the maximal depth of the tree (you may use the DecisionTreeClassifier from scikit but **you should provide your own implementation of the bagging algorithm**) `[train_rfc, test_rfc]`\n",
    "\n",
    "Regressors:\n",
    "- d) decision tree: the parameter controls the maximal depth of the tree (you may use the DecisionTreeRegressor from scikit) `[train_dt, test_dt]`\n",
    "- e) svm linear: the parameter controls the regularization constant C (you may use SVR from scikit) `[train_svm_1, test_svm]`\n",
    "- f) svm with a polynomial kernel of degree 2: the parameter controls the regularization constant C  (you may use SVR from scikit) `[train_svm_2, test_svm]`\n",
    "- g) svm with a polynomial kernel of degree 3: the parameter controls the regularization constant C  (you may use SVR from scikit) `[train_svm_3, test_svm]`\n",
    "- h) random forest: the parameter controls the maximal depth of the tree (you may use the DecisionTreeRegressor from scikit but **you should provide your own implementation of the bagging algorithm**) `[train_rf, test_rf]`\n",
    "\n",
    "For the algorithms `adaboost` and `random forest`, the size of the ensemble should be fixed to 100."
   ]
  },
  {
   "cell_type": "code",
   "execution_count": null,
   "metadata": {
    "deletable": false,
    "nbgrader": {
     "cell_type": "code",
     "checksum": "2e6e8e1169241fdd83d3145216354846",
     "grade": false,
     "grade_id": "cell-df3c9bf947c1e603",
     "locked": false,
     "schema_version": 3,
     "solution": true,
     "task": false
    }
   },
   "outputs": [],
   "source": [
    "# classifiers\n",
    "from sklearn.neighbors import KNeighborsClassifier\n",
    "\n",
    "def train_knn(X_train, y_train, param):\n",
    "    # YOUR CODE HERE\n",
    "    raise NotImplementedError()\n",
    "\n",
    "def test_knn(X_test, est):\n",
    "    # YOUR CODE HERE\n",
    "    raise NotImplementedError()\n",
    "\n",
    "\n",
    "from sklearn.tree import DecisionTreeClassifier\n",
    "\n",
    "def train_ab(X_train, y_train, param):\n",
    "    # YOUR CODE HERE\n",
    "    raise NotImplementedError()\n",
    "\n",
    "def test_ab(X_test, models):\n",
    "    # YOUR CODE HERE\n",
    "    raise NotImplementedError()\n",
    "\n",
    "from sklearn.tree import DecisionTreeClassifier\n",
    "\n",
    "def train_rfc(X_train, y_train, param):\n",
    "    # YOUR CODE HERE\n",
    "    raise NotImplementedError()\n",
    "\n",
    "def test_rfc(X_test, models):\n",
    "    # YOUR CODE HERE\n",
    "    raise NotImplementedError()\n",
    "\n",
    "\n",
    "# regressors\n",
    "from sklearn.tree import DecisionTreeRegressor\n",
    "\n",
    "def train_dt(X_train, y_train, param):\n",
    "    # YOUR CODE HERE\n",
    "    raise NotImplementedError()\n",
    "\n",
    "def test_dt(X_test, est):\n",
    "    # YOUR CODE HERE\n",
    "    raise NotImplementedError()\n",
    "\n",
    "from sklearn.svm import SVR\n",
    "\n",
    "def train_svm_1(X_train, y_train, param):\n",
    "    # YOUR CODE HERE\n",
    "    raise NotImplementedError()\n",
    "\n",
    "def train_svm_2(X_train, y_train, param):\n",
    "    # YOUR CODE HERE\n",
    "    raise NotImplementedError()\n",
    "\n",
    "def train_svm_3(X_train, y_train, param):\n",
    "    # YOUR CODE HERE\n",
    "    raise NotImplementedError()\n",
    "\n",
    "#Note: you do not need to specialise the svm test function for each degree\n",
    "def test_svm(X_test, est):\n",
    "    # YOUR CODE HERE\n",
    "    raise NotImplementedError()\n",
    "\n",
    "\n",
    "from sklearn.tree import DecisionTreeRegressor\n",
    "\n",
    "def train_rf(X_train, y_train, param):\n",
    "    # YOUR CODE HERE\n",
    "    raise NotImplementedError()\n",
    "\n",
    "def test_rf(X_test, models):\n",
    "    # YOUR CODE HERE\n",
    "    raise NotImplementedError()"
   ]
  },
  {
   "cell_type": "code",
   "execution_count": null,
   "metadata": {
    "deletable": false,
    "editable": false,
    "nbgrader": {
     "cell_type": "code",
     "checksum": "6f0b6388c0871638ea9db50fd3284ac1",
     "grade": true,
     "grade_id": "cell-80c878649e4d112c",
     "locked": true,
     "points": 1,
     "schema_version": 3,
     "solution": false,
     "task": false
    }
   },
   "outputs": [],
   "source": [
    "# This cell is reserved for the unit tests. Do not consider this cell. "
   ]
  },
  {
   "cell_type": "code",
   "execution_count": null,
   "metadata": {
    "deletable": false,
    "editable": false,
    "nbgrader": {
     "cell_type": "code",
     "checksum": "606f8f4909fdcbf614800913a1096d2e",
     "grade": true,
     "grade_id": "cell-b2ecf67d4ffd1c9d",
     "locked": true,
     "points": 2,
     "schema_version": 3,
     "solution": false,
     "task": false
    }
   },
   "outputs": [],
   "source": [
    "# This cell is reserved for the unit tests. Do not consider this cell. "
   ]
  },
  {
   "cell_type": "code",
   "execution_count": null,
   "metadata": {
    "deletable": false,
    "editable": false,
    "nbgrader": {
     "cell_type": "code",
     "checksum": "f49a51ed8f12eec8e5dd3a2991e95343",
     "grade": true,
     "grade_id": "cell-3893cfeb1e962d39",
     "locked": true,
     "points": 2,
     "schema_version": 3,
     "solution": false,
     "task": false
    }
   },
   "outputs": [],
   "source": [
    "# This cell is reserved for the unit tests. Do not consider this cell. "
   ]
  },
  {
   "cell_type": "code",
   "execution_count": null,
   "metadata": {
    "deletable": false,
    "editable": false,
    "nbgrader": {
     "cell_type": "code",
     "checksum": "8cc543ba68662f14092ea466f5bdd180",
     "grade": true,
     "grade_id": "cell-15b2ff0fa002b72e",
     "locked": true,
     "points": 2,
     "schema_version": 3,
     "solution": false,
     "task": false
    }
   },
   "outputs": [],
   "source": [
    "# This cell is reserved for the unit tests. Do not consider this cell. "
   ]
  },
  {
   "cell_type": "code",
   "execution_count": null,
   "metadata": {
    "deletable": false,
    "editable": false,
    "nbgrader": {
     "cell_type": "code",
     "checksum": "0b3367854bd57ca6a78e450e796e35b1",
     "grade": true,
     "grade_id": "cell-869a7a5802fd6883",
     "locked": true,
     "points": 1,
     "schema_version": 3,
     "solution": false,
     "task": false
    }
   },
   "outputs": [],
   "source": [
    "# This cell is reserved for the unit tests. Do not consider this cell. "
   ]
  },
  {
   "cell_type": "code",
   "execution_count": null,
   "metadata": {
    "deletable": false,
    "editable": false,
    "nbgrader": {
     "cell_type": "code",
     "checksum": "d0aed26d7a113d504d749368e80d2c46",
     "grade": true,
     "grade_id": "cell-804333e0e5c4f7f5",
     "locked": true,
     "points": 1,
     "schema_version": 3,
     "solution": false,
     "task": false
    }
   },
   "outputs": [],
   "source": [
    "# This cell is reserved for the unit tests. Do not consider this cell. "
   ]
  },
  {
   "cell_type": "markdown",
   "metadata": {
    "deletable": false,
    "editable": false,
    "nbgrader": {
     "cell_type": "markdown",
     "checksum": "3da8d151313cefc6f7704a3ee6f2bee1",
     "grade": false,
     "grade_id": "cell-a9835f8a00d85970",
     "locked": true,
     "schema_version": 3,
     "solution": false,
     "task": false
    }
   },
   "source": [
    "## Question 8  [marks 0]\n",
    "\n",
    "This is just a check-point, i.e. it is for you to see that you are correctly implementing all functions. Since this cell uses functions that you have already implemented and that have already been marked, this Question is not going to be marked.\n",
    "\n",
    "\n",
    "Make a dataset using\n",
    "\n",
    "```python\n",
    "X, y = get_dataset_classification(n_samples=240, std=30, inner_std=10)\n",
    "\n",
    "from sklearn.model_selection import train_test_split\n",
    "X_train, X_test, y_train, y_test = train_test_split(X,y, test_size=.3)\n",
    "\n",
    "```\n",
    "\n",
    "and check that the classification error for \n",
    "- k-nearest-neighbor\n",
    "- random forest classifier\n",
    "- adaboost"
   ]
  },
  {
   "cell_type": "code",
   "execution_count": null,
   "metadata": {
    "deletable": false,
    "editable": false,
    "nbgrader": {
     "cell_type": "code",
     "checksum": "2e3180d49adf51420f31d9c3d69c1c97",
     "grade": false,
     "grade_id": "cell-7638b5bea8a76ff4",
     "locked": true,
     "schema_version": 3,
     "solution": false,
     "task": false
    }
   },
   "outputs": [],
   "source": [
    "# Just run the following code, do not modify it\n",
    "X, y = get_dataset_classification(n_samples=240, std=30, inner_std=10)\n",
    "from sklearn.model_selection import train_test_split\n",
    "X_train, X_test, y_train, y_test = train_test_split(X,y, test_size=.3)\n",
    "param=3\n",
    "e_knn = classification_error(y_test, test_knn(X_test, train_knn(X_train, y_train, param)))\n",
    "e_rfc = classification_error(y_test, test_rfc(X_test, train_rfc(X_train, y_train, param)))\n",
    "e_ab = classification_error(y_test, test_ab(X_test, train_ab(X_train, y_train, param)))\n",
    "print(e_knn, e_rfc, e_ab)"
   ]
  },
  {
   "cell_type": "markdown",
   "metadata": {
    "deletable": false,
    "editable": false,
    "nbgrader": {
     "cell_type": "markdown",
     "checksum": "0d5042d6358dad7fc15c0b2758950951",
     "grade": false,
     "grade_id": "cell-baa423aae2ccd501",
     "locked": true,
     "schema_version": 3,
     "solution": false,
     "task": false
    }
   },
   "source": [
    "## Question 9  [marks 0]\n",
    "\n",
    "This is just a check-point, i.e. it is for you to see that you are correctly implementing all functions. Since this cell uses functions that you have already implemented and that have already been marked, this Question is not going to be marked.\n",
    "\n",
    "Make a dataset using\n",
    "\n",
    "```python\n",
    "X, y = get_dataset_regression(n_samples=120, std=30, inner_std=10)\n",
    "\n",
    "from sklearn.model_selection import train_test_split\n",
    "X_train, X_test, y_train, y_test = train_test_split(X,y, test_size=.3)\n",
    "\n",
    "```\n",
    "\n",
    "and check that the regression error for these regressors\n",
    "- decision tree\n",
    "- svm with polynomial kernel of degree 2\n",
    "- svm with polynomial kernel of degree 3\n",
    "\n",
    "is approximately comparable."
   ]
  },
  {
   "cell_type": "code",
   "execution_count": null,
   "metadata": {
    "deletable": false,
    "editable": false,
    "nbgrader": {
     "cell_type": "code",
     "checksum": "e1adc190200922234b8fe265f93b9f18",
     "grade": false,
     "grade_id": "cell-fcad6b7fe731fa70",
     "locked": true,
     "schema_version": 3,
     "solution": false,
     "task": false
    }
   },
   "outputs": [],
   "source": [
    "# Just run the following code, do not modify it\n",
    "X, y = get_dataset_regression(n_samples=120, std=30, inner_std=10)\n",
    "from sklearn.model_selection import train_test_split\n",
    "X_train, X_test, y_train, y_test = train_test_split(X,y, test_size=.3)\n",
    "param=3\n",
    "e_dt = regression_error(y_test, test_dt(X_test, train_dt(X_train, y_train, param)))\n",
    "e_svm2 = regression_error(y_test, test_svm(X_test, train_svm_2(X_train, y_train, param)))\n",
    "e_svm3 = regression_error(y_test, test_svm(X_test, train_svm_3(X_train, y_train, param)))\n",
    "print(e_dt, e_svm2, e_svm3)"
   ]
  },
  {
   "cell_type": "markdown",
   "metadata": {
    "deletable": false,
    "editable": false,
    "nbgrader": {
     "cell_type": "markdown",
     "checksum": "f0dea84bb718e0ab6e1a06ffd67c9148",
     "grade": false,
     "grade_id": "cell-87b17b427ce7adc2",
     "locked": true,
     "schema_version": 3,
     "solution": false,
     "task": false
    }
   },
   "source": [
    "## Question 10  [marks 10]\n",
    "\n",
    "Make a function `sizes, train_errors, test_errors = compute_learning_curve(train_func, test_func, param, X, y, test_size, n_steps, n_repetitions)` to compute the train and test errors as mandated in the learning curve approach.  \n",
    "\n",
    "The regressor will be trained via `train_func` on the problem `data_matrix`, `targets` with parameter `param`. The estimate will be done averaging a number of replicates equal to `n_repetitions`, i.e. the code needs to repeat the process  `n_repetitions` times (say 10) and average the error. \n",
    "\n",
    "Note that a fraction of the data as indicated by `test_size` (say 0.33 for 30%) is going to be reserved for testing purposes. The remaining amount of data can be used in the training phase. The learning curve should be computed for an amount of training material that varies from a **minimum of 2 instances** up to all the instances available for training. \n",
    "\n",
    "You should use the function `regression_error` to compute the error.\n",
    "\n",
    "\n",
    "**Note:** do not use library functions (e.g. `learning_curve` in scikit) to compute the result directly but implement your own version."
   ]
  },
  {
   "cell_type": "code",
   "execution_count": null,
   "metadata": {
    "deletable": false,
    "nbgrader": {
     "cell_type": "code",
     "checksum": "10c61c95b206b7aaae2b64f3db817f45",
     "grade": false,
     "grade_id": "cell-88fd81865bf10bcb",
     "locked": false,
     "schema_version": 3,
     "solution": true,
     "task": false
    }
   },
   "outputs": [],
   "source": [
    "def compute_learning_curve(train_func, test_func, param, X, y, test_size, n_steps, n_repetitions):\n",
    "    # YOUR CODE HERE\n",
    "    raise NotImplementedError()"
   ]
  },
  {
   "cell_type": "code",
   "execution_count": null,
   "metadata": {
    "deletable": false,
    "editable": false,
    "nbgrader": {
     "cell_type": "code",
     "checksum": "ac0f72d8737e4c6c9f9875ce6baf7466",
     "grade": true,
     "grade_id": "cell-3eec91d7844605ce",
     "locked": true,
     "points": 5,
     "schema_version": 3,
     "solution": false,
     "task": false
    }
   },
   "outputs": [],
   "source": [
    "# This cell is reserved for the unit tests. Do not consider this cell. "
   ]
  },
  {
   "cell_type": "code",
   "execution_count": null,
   "metadata": {
    "deletable": false,
    "editable": false,
    "nbgrader": {
     "cell_type": "code",
     "checksum": "0e92b711f34546414d39205d7015488a",
     "grade": true,
     "grade_id": "cell-259a159e336b1e94",
     "locked": true,
     "points": 5,
     "schema_version": 3,
     "solution": false,
     "task": false
    }
   },
   "outputs": [],
   "source": [
    "# This cell is reserved for the unit tests. Do not consider this cell. "
   ]
  },
  {
   "cell_type": "markdown",
   "metadata": {
    "deletable": false,
    "editable": false,
    "nbgrader": {
     "cell_type": "markdown",
     "checksum": "1032fa0a3a92c59fd5983071e377e19d",
     "grade": false,
     "grade_id": "cell-71594a187644a8b6",
     "locked": true,
     "schema_version": 3,
     "solution": false,
     "task": false
    }
   },
   "source": [
    "## Question 11  [marks 1]\n",
    "\n",
    "Make a function `plot_learning_curve(sizes, train_errors, test_errors)` to display the train and test error as a function of the size of the training set. \n",
    "\n",
    "You should get something like:\n",
    "\n",
    "<img src='plot11.png' width=400>"
   ]
  },
  {
   "cell_type": "code",
   "execution_count": null,
   "metadata": {
    "deletable": false,
    "nbgrader": {
     "cell_type": "code",
     "checksum": "fecfac2d1acf30ad977d24284202bb6a",
     "grade": false,
     "grade_id": "cell-86543ebb7a72f24c",
     "locked": false,
     "schema_version": 3,
     "solution": true,
     "task": false
    }
   },
   "outputs": [],
   "source": [
    "def plot_learning_curve(sizes, train_errors, test_errors):\n",
    "    # YOUR CODE HERE\n",
    "    raise NotImplementedError()"
   ]
  },
  {
   "cell_type": "code",
   "execution_count": null,
   "metadata": {
    "deletable": false,
    "editable": false,
    "nbgrader": {
     "cell_type": "code",
     "checksum": "5fd29ec85e410164d492692a4d1ad956",
     "grade": true,
     "grade_id": "cell-51334d4ebb1fcea2",
     "locked": true,
     "points": 1,
     "schema_version": 3,
     "solution": false,
     "task": false
    }
   },
   "outputs": [],
   "source": [
    "# This cell is reserved for the unit tests. Do not consider this cell. "
   ]
  },
  {
   "cell_type": "markdown",
   "metadata": {
    "deletable": false,
    "editable": false,
    "nbgrader": {
     "cell_type": "markdown",
     "checksum": "7b249bcc677ce53055f4471316cc7fde",
     "grade": false,
     "grade_id": "cell-d996b3c06e38ec72",
     "locked": true,
     "schema_version": 3,
     "solution": false,
     "task": false
    }
   },
   "source": [
    "## Question 12  [marks 3]\n",
    "\n",
    "Make a function `estimate_asymptotic_error(sizes, train_errors, test_errors)` that returns an estimate of the asymptotic error, i.e. the error made in the limit of an infinitely large training set."
   ]
  },
  {
   "cell_type": "code",
   "execution_count": null,
   "metadata": {
    "deletable": false,
    "nbgrader": {
     "cell_type": "code",
     "checksum": "32136a56cf90671c7c064646b6293aba",
     "grade": false,
     "grade_id": "cell-d218adcf35168c1c",
     "locked": false,
     "schema_version": 3,
     "solution": true,
     "task": false
    }
   },
   "outputs": [],
   "source": [
    "def estimate_asymptotic_error(sizes, train_errors, test_errors):\n",
    "    # YOUR CODE HERE\n",
    "    raise NotImplementedError()"
   ]
  },
  {
   "cell_type": "code",
   "execution_count": null,
   "metadata": {
    "deletable": false,
    "editable": false,
    "nbgrader": {
     "cell_type": "code",
     "checksum": "eb6e67a4914d520253fd8a36c6d2751b",
     "grade": true,
     "grade_id": "cell-e14e0ce3d70a3d1a",
     "locked": true,
     "points": 3,
     "schema_version": 3,
     "solution": false,
     "task": false
    }
   },
   "outputs": [],
   "source": [
    "# This cell is reserved for the unit tests. Do not consider this cell. "
   ]
  },
  {
   "cell_type": "markdown",
   "metadata": {
    "deletable": false,
    "editable": false,
    "nbgrader": {
     "cell_type": "markdown",
     "checksum": "66ba4958b6d037f1af4e2e3522fd97b8",
     "grade": false,
     "grade_id": "cell-a18a34da97e63be0",
     "locked": true,
     "schema_version": 3,
     "solution": false,
     "task": false
    }
   },
   "source": [
    "## Question 13  [marks 0]\n",
    "\n",
    "This is just a check-point, i.e. it is for you to see that you are correctly implementing all functions. Since this cell uses functions that you have already implemented and that have already been marked, this Question is not going to be marked.\n",
    "\n",
    "\n",
    "When you run:\n",
    "```python\n",
    "X, y = get_dataset_regression(n_samples=800, std=30, inner_std=10)\n",
    "train_func, test_func = train_dt, test_dt\n",
    "param=5\n",
    "sizes, train_errors, test_errors = compute_learning_curve(train_func, test_func, param, X, y, test_size=.3, n_steps=10, n_repetitions=100)\n",
    "e = estimate_asymptotic_error(train_errors, test_errors)\n",
    "print('Asymptotic error: %.1f'%e)\n",
    "plot_learning_curve(sizes, train_errors, test_errors)\n",
    "```\n",
    "\n",
    "you should get something like\n",
    "\n",
    "<img src='plot12.png' width=400>\n"
   ]
  },
  {
   "cell_type": "code",
   "execution_count": null,
   "metadata": {
    "deletable": false,
    "editable": false,
    "nbgrader": {
     "cell_type": "code",
     "checksum": "cd318348e3ff87a07fb8c2680eb10bc3",
     "grade": false,
     "grade_id": "cell-89f2955b42ee5438",
     "locked": true,
     "schema_version": 3,
     "solution": false,
     "task": false
    }
   },
   "outputs": [],
   "source": [
    "# Just run the following code, do not modify it\n",
    "X, y = get_dataset_regression(n_samples=800, std=30, inner_std=10)\n",
    "train_func, test_func = train_dt, test_dt\n",
    "param=5\n",
    "sizes, train_errors, test_errors = compute_learning_curve(train_func, test_func, param, X, y, test_size=.3, n_steps=10, n_repetitions=100)\n",
    "e = estimate_asymptotic_error(sizes, train_errors, test_errors)\n",
    "print('Asymptotic error: %.1f'%e)\n",
    "plot_learning_curve(sizes, train_errors, test_errors)"
   ]
  },
  {
   "cell_type": "markdown",
   "metadata": {
    "deletable": false,
    "editable": false,
    "nbgrader": {
     "cell_type": "markdown",
     "checksum": "8bead5795dd17a7575aa5f4974f59345",
     "grade": false,
     "grade_id": "cell-c94a2de1e13199cb",
     "locked": true,
     "schema_version": 3,
     "solution": false,
     "task": false
    }
   },
   "source": [
    "## Question 14 [marks 6]\n",
    "\n",
    "Make a function `bias2, variance = compute_bias_variance(predictions_dict, targets)` that takes in input a dictionary of lists of predictions indexed by the instance index, and the target vector. The function should compute the squared bias component of the error and the variance components of the error for each instance.\n",
    "\n",
    "As a toy example consider: `predictions_dict={0:[1,1,1], 1:[1,-1], 2:[-1,-1,-1,1]}` and `targets=[1,1,-1]`, that is, for instance with index 0 there are 3 predictions available `[1,1,1]`, instead for instance with index 1 there are only 2 predictions available `[1,-1]`, etc. In this case, you should get `bias2=[0.  , 1.  , 0.25]` and `variance=[0.  , 1.  , 0.75]`."
   ]
  },
  {
   "cell_type": "code",
   "execution_count": null,
   "metadata": {
    "deletable": false,
    "nbgrader": {
     "cell_type": "code",
     "checksum": "f14b8f7fbc03243ad0c8094b27b3f441",
     "grade": false,
     "grade_id": "cell-25ae52c28952d27b",
     "locked": false,
     "schema_version": 3,
     "solution": true,
     "task": false
    }
   },
   "outputs": [],
   "source": [
    "def compute_bias_variance(predictions_dict, targets): \n",
    "    # YOUR CODE HERE\n",
    "    raise NotImplementedError()"
   ]
  },
  {
   "cell_type": "code",
   "execution_count": null,
   "metadata": {
    "deletable": false,
    "editable": false,
    "nbgrader": {
     "cell_type": "code",
     "checksum": "71679d8c75e57771c54a4e371c27037d",
     "grade": true,
     "grade_id": "cell-6b57668a0b7b2754",
     "locked": true,
     "points": 6,
     "schema_version": 3,
     "solution": false,
     "task": false
    }
   },
   "outputs": [],
   "source": [
    "# This cell is reserved for the unit tests. Do not consider this cell. "
   ]
  },
  {
   "cell_type": "markdown",
   "metadata": {
    "deletable": false,
    "editable": false,
    "nbgrader": {
     "cell_type": "markdown",
     "checksum": "d7e886db587472b3a07242d11d3ac9e2",
     "grade": false,
     "grade_id": "cell-138f82796f4cd3e8",
     "locked": true,
     "schema_version": 3,
     "solution": false,
     "task": false
    }
   },
   "source": [
    "## Question 15 [marks 10]\n",
    "\n",
    "Make a function `bias2, variance = bias_variance_decomposition(train_func, test_func, param, data_matrix, targets, n_bootstraps)` to compute the bias variance decomposition of the error of a regressor on a given problem. The regressor will be trained via `train_func` on the problem `data_matrix`, `targets` with parameter `param`. The estimate will be done using a number of replicates equal to `n_bootstraps`."
   ]
  },
  {
   "cell_type": "code",
   "execution_count": null,
   "metadata": {
    "deletable": false,
    "nbgrader": {
     "cell_type": "code",
     "checksum": "41169b2313a617eb1f6e14bd3d0480ca",
     "grade": false,
     "grade_id": "cell-2e0210536c923437",
     "locked": false,
     "schema_version": 3,
     "solution": true,
     "task": false
    }
   },
   "outputs": [],
   "source": [
    "def bias_variance_decomposition(train_func, test_func, param, data_matrix, targets, n_bootstraps):\n",
    "    # YOUR CODE HERE\n",
    "    raise NotImplementedError()"
   ]
  },
  {
   "cell_type": "code",
   "execution_count": null,
   "metadata": {
    "deletable": false,
    "editable": false,
    "nbgrader": {
     "cell_type": "code",
     "checksum": "e77444c7aefa3c05aa30aa05a76fdac2",
     "grade": true,
     "grade_id": "cell-948c1dfbb6cc0e61",
     "locked": true,
     "points": 5,
     "schema_version": 3,
     "solution": false,
     "task": false
    }
   },
   "outputs": [],
   "source": [
    "# This cell is reserved for the unit tests. Do not consider this cell. "
   ]
  },
  {
   "cell_type": "code",
   "execution_count": null,
   "metadata": {
    "deletable": false,
    "editable": false,
    "nbgrader": {
     "cell_type": "code",
     "checksum": "137e8f1880f50bcfcefde97de1b62887",
     "grade": true,
     "grade_id": "cell-6160907ac4ad0607",
     "locked": true,
     "points": 5,
     "schema_version": 3,
     "solution": false,
     "task": false
    }
   },
   "outputs": [],
   "source": [
    "# This cell is reserved for the unit tests. Do not consider this cell. "
   ]
  },
  {
   "cell_type": "markdown",
   "metadata": {
    "deletable": false,
    "editable": false,
    "nbgrader": {
     "cell_type": "markdown",
     "checksum": "57b08cf525dcfc3ebc407ee78ffe8d1b",
     "grade": false,
     "grade_id": "cell-542d93c404e385f3",
     "locked": true,
     "schema_version": 3,
     "solution": false,
     "task": false
    }
   },
   "source": [
    "## Question 16 [marks 2]\n",
    "\n",
    "Consider the following regression problem (it does not matter that the target is only 1 and -1):\n",
    "\n",
    "```python\n",
    "from sklearn.datasets import load_iris\n",
    "\n",
    "def make_iris_data():\n",
    "    X,y = load_iris(return_X_y=True)\n",
    "    X=X[:,[0,2]]\n",
    "    y[y==2]=0\n",
    "    y[y==0]=-1\n",
    "    return X,y\n",
    "```\n",
    "\n",
    "Estimate the squared bias and variance component for each instance.  \n",
    "\n",
    "Consider as regressor a linear svm and a polynomial svm with degree 3.\n",
    "\n",
    "What is the class of the instances that have the highest bias error on average?"
   ]
  },
  {
   "cell_type": "code",
   "execution_count": null,
   "metadata": {
    "deletable": false,
    "editable": false,
    "nbgrader": {
     "cell_type": "code",
     "checksum": "0dba1de3a0ee6faefcee27bfe204dbe8",
     "grade": false,
     "grade_id": "cell-f98e40bd2056b968",
     "locked": true,
     "schema_version": 3,
     "solution": false,
     "task": false
    }
   },
   "outputs": [],
   "source": [
    "# Just run the following code, do not modify it\n",
    "from sklearn.datasets import load_iris\n",
    "\n",
    "def make_iris_data():\n",
    "    X,y = load_iris(return_X_y=True)\n",
    "    X=X[:,[0,2]]\n",
    "    y[y==2]=0\n",
    "    y[y==0]=-1\n",
    "    return X,y\n",
    "\n",
    "X,y = make_iris_data()\n",
    "\n",
    "bias2, variance = bias_variance_decomposition(train_svm_1, test_svm, param=2, data_matrix=X, targets=y, n_bootstraps=100)\n",
    "print(np.mean(bias2[y==1]) , np.mean(bias2[y==-1]))\n",
    "bias2, variance = bias_variance_decomposition(train_svm_3, test_svm, param=2, data_matrix=X, targets=y, n_bootstraps=100)\n",
    "print(np.mean(bias2[y==1]) , np.mean(bias2[y==-1]))"
   ]
  },
  {
   "cell_type": "code",
   "execution_count": null,
   "metadata": {
    "deletable": false,
    "editable": false,
    "nbgrader": {
     "cell_type": "code",
     "checksum": "fe5477d535bb6be3fb50660c24226711",
     "grade": true,
     "grade_id": "cell-18d4b80a0509aa21",
     "locked": true,
     "points": 2,
     "schema_version": 3,
     "solution": false,
     "task": false
    }
   },
   "outputs": [],
   "source": [
    "# This cell is reserved for the unit tests. Do not consider this cell. "
   ]
  },
  {
   "cell_type": "markdown",
   "metadata": {
    "deletable": false,
    "editable": false,
    "nbgrader": {
     "cell_type": "markdown",
     "checksum": "a313e1d17000a5629bb1f988ddd37350",
     "grade": false,
     "grade_id": "cell-48b2824486b6c6ce",
     "locked": true,
     "schema_version": 3,
     "solution": false,
     "task": false
    }
   },
   "source": [
    "## Question 17 [marks 6]\n",
    "\n",
    "Make a function `bs,vs = compute_bias_variance_decomposition(train_func, test_func, params, data_matrix, targets, n_bootstraps)` to compute the average squared bias error component and the average variance component of the error for each parameter setting in the vector `params`. The regressor will be trained via `train_func` on the problem `data_matrix`, `targets` with parameter `param`. The estimate will be done using a number of replicates equal to `n_bootstraps`. To be clear, the vector `bs` contains the average square bias error for each parameter in `params` and the vector `vs` contains the average variance error for each parameter in `params`."
   ]
  },
  {
   "cell_type": "code",
   "execution_count": null,
   "metadata": {
    "deletable": false,
    "nbgrader": {
     "cell_type": "code",
     "checksum": "d2b332776a3106ad5416d03d6429bc94",
     "grade": false,
     "grade_id": "cell-a7413326b1b02cd7",
     "locked": false,
     "schema_version": 3,
     "solution": true,
     "task": false
    }
   },
   "outputs": [],
   "source": [
    "def compute_bias_variance_decomposition(train_func, test_func, params, data_matrix, targets, n_bootstraps):\n",
    "    # YOUR CODE HERE\n",
    "    raise NotImplementedError()"
   ]
  },
  {
   "cell_type": "code",
   "execution_count": null,
   "metadata": {
    "deletable": false,
    "editable": false,
    "nbgrader": {
     "cell_type": "code",
     "checksum": "e24fac08a9538e943b51603adb8a63d2",
     "grade": true,
     "grade_id": "cell-913efa2d181b3145",
     "locked": true,
     "points": 6,
     "schema_version": 3,
     "solution": false,
     "task": false
    }
   },
   "outputs": [],
   "source": [
    "# This cell is reserved for the unit tests. Do not consider this cell. "
   ]
  },
  {
   "cell_type": "markdown",
   "metadata": {
    "deletable": false,
    "editable": false,
    "nbgrader": {
     "cell_type": "markdown",
     "checksum": "2a40e19011b4f4abc14dfca9dc66d7d1",
     "grade": false,
     "grade_id": "cell-c81f66b915335b2b",
     "locked": true,
     "schema_version": 3,
     "solution": false,
     "task": false
    }
   },
   "source": [
    "## Question 18 [marks 1]\n",
    "\n",
    "Make a function `plot_bias_variance_decomposition(train_func, test_func, params, data_matrix, targets, n_bootstraps, logscale=False)`.\n",
    "\n",
    "You should plot the individual components or the squared bias, the variance and the total error. You should allow the possibility to employ a logarithmic scale for the horizontal axis via the `logscale` flag.\n",
    "\n",
    "You should get something like:\n",
    "\n",
    "<img src='plot18.png' width=400>"
   ]
  },
  {
   "cell_type": "code",
   "execution_count": null,
   "metadata": {
    "deletable": false,
    "nbgrader": {
     "cell_type": "code",
     "checksum": "71201436650300639351e1223a091bdf",
     "grade": false,
     "grade_id": "cell-0cff4b437bbcda3f",
     "locked": false,
     "schema_version": 3,
     "solution": true,
     "task": false
    }
   },
   "outputs": [],
   "source": [
    "def plot_bias_variance_decomposition(train_func, test_func, params, data_matrix, targets, n_bootstraps, logscale=False):\n",
    "    # YOUR CODE HERE\n",
    "    raise NotImplementedError()"
   ]
  },
  {
   "cell_type": "code",
   "execution_count": null,
   "metadata": {
    "deletable": false,
    "editable": false,
    "nbgrader": {
     "cell_type": "code",
     "checksum": "1c7ed7989aac2ba0a85257b70751c3cc",
     "grade": true,
     "grade_id": "cell-ec88b44e8808fc53",
     "locked": true,
     "points": 1,
     "schema_version": 3,
     "solution": false,
     "task": false
    }
   },
   "outputs": [],
   "source": [
    "# This cell is reserved for the unit tests. Do not consider this cell. "
   ]
  },
  {
   "cell_type": "markdown",
   "metadata": {
    "deletable": false,
    "editable": false,
    "nbgrader": {
     "cell_type": "markdown",
     "checksum": "28377695307001a510153b13925fc8c8",
     "grade": false,
     "grade_id": "cell-500d63e45e73faf9",
     "locked": true,
     "schema_version": 3,
     "solution": false,
     "task": false
    }
   },
   "source": [
    "## Question 19 [marks 2]\n",
    "\n",
    "Make a function `find_best_param_with_bias_variance_decomposition(train_func, test_func, params, data_matrix, targets, n_bootstraps)` that uses the bias variance decomposition analysis to determine which parameter among `params` achieves the smallest estimated predictive error."
   ]
  },
  {
   "cell_type": "code",
   "execution_count": null,
   "metadata": {
    "deletable": false,
    "nbgrader": {
     "cell_type": "code",
     "checksum": "b89b218199627bd69ff6821dbeafe0b9",
     "grade": false,
     "grade_id": "cell-aa28c6e5e78e4b64",
     "locked": false,
     "schema_version": 3,
     "solution": true,
     "task": false
    }
   },
   "outputs": [],
   "source": [
    "def find_best_param_with_bias_variance_decomposition(train_func, test_func, params, data_matrix, targets, n_bootstraps):\n",
    "    # YOUR CODE HERE\n",
    "    raise NotImplementedError()"
   ]
  },
  {
   "cell_type": "code",
   "execution_count": null,
   "metadata": {
    "deletable": false,
    "editable": false,
    "nbgrader": {
     "cell_type": "code",
     "checksum": "3c05ad10dac8dd8cbd4919f5de60d045",
     "grade": true,
     "grade_id": "cell-98ff3545d2855471",
     "locked": true,
     "points": 2,
     "schema_version": 3,
     "solution": false,
     "task": false
    }
   },
   "outputs": [],
   "source": [
    "# This cell is reserved for the unit tests. Do not consider this cell. "
   ]
  },
  {
   "cell_type": "markdown",
   "metadata": {
    "deletable": false,
    "editable": false,
    "nbgrader": {
     "cell_type": "markdown",
     "checksum": "87d660f5b3f35a8c6c8f0c7be91e76e2",
     "grade": false,
     "grade_id": "cell-410b087988cb8ce1",
     "locked": true,
     "schema_version": 3,
     "solution": false,
     "task": false
    }
   },
   "source": [
    "## Question 20 [marks 6]\n",
    "\n",
    "When you execute the following code \n",
    "```python\n",
    "X, y = get_dataset_regression(n_samples=400, std=10, inner_std=7)\n",
    "params = np.linspace(1,30,30).astype(int)\n",
    "train_func, test_func = train_dt, test_dt\n",
    "p = find_best_param_with_bias_variance_decomposition(train_func, test_func, params, data_matrix, targets, n_bootstraps=60)\n",
    "print('Best parameter:%s'%p)\n",
    "plot_bias_variance_decomposition(train_func, test_func, params, data_matrix, targets, n_bootstraps=50, logscale=False)\n",
    "```\n",
    "\n",
    "You should get something like:\n",
    "\n",
    "<img src='plot19.png' width=400>\n",
    "\n",
    "The next unit tests will run your functions `find_best_param_with_bias_variance_decomposition` on an undisclosed dataset using as regressors:\n",
    "- decision tree\n",
    "- svm degree 3\n",
    "\n",
    "and 3 marks will be awarded for each correct optimal parameter identified."
   ]
  },
  {
   "cell_type": "code",
   "execution_count": null,
   "metadata": {
    "deletable": false,
    "editable": false,
    "nbgrader": {
     "cell_type": "code",
     "checksum": "ebe5ef38e27fcca0f8e6b5f288f3b087",
     "grade": true,
     "grade_id": "cell-feb1a931d76ea8c6",
     "locked": true,
     "points": 3,
     "schema_version": 3,
     "solution": false,
     "task": false
    }
   },
   "outputs": [],
   "source": [
    "# This cell is reserved for the unit tests. Do not consider this cell. "
   ]
  },
  {
   "cell_type": "code",
   "execution_count": null,
   "metadata": {
    "deletable": false,
    "editable": false,
    "nbgrader": {
     "cell_type": "code",
     "checksum": "01a69608d91fac9ad7da4d4ad7a63a3f",
     "grade": true,
     "grade_id": "cell-76df33a1a8fbb2ed",
     "locked": true,
     "points": 3,
     "schema_version": 3,
     "solution": false,
     "task": false
    }
   },
   "outputs": [],
   "source": [
    "# This cell is reserved for the unit tests. Do not consider this cell. "
   ]
  },
  {
   "cell_type": "markdown",
   "metadata": {
    "deletable": false,
    "editable": false,
    "nbgrader": {
     "cell_type": "markdown",
     "checksum": "5edd9b244b4a127642565fe035401a6d",
     "grade": false,
     "grade_id": "cell-f59fab32129c8dd2",
     "locked": true,
     "schema_version": 3,
     "solution": false,
     "task": false
    }
   },
   "source": [
    "## Question 21 [marks 5]\n",
    "\n",
    "Make a function `conf_mtx = confusion_table(targets, preds)` to output the confusion matrix as a 2 x 2 Numpy array. Rows indicate the prediction and columns the target. The cell element with index [0,0] should report the true positive count. \n",
    "\n",
    "Running the following code:\n",
    "\n",
    "```python\n",
    "from sklearn.datasets import load_iris\n",
    "X,y = load_iris(return_X_y=True)\n",
    "\n",
    "from sklearn.model_selection import train_test_split\n",
    "X_train, X_test, y_train, y_test = train_test_split(X,y, test_size=.3)\n",
    "\n",
    "models = train_knn(X_train, y_train, param=3)\n",
    "preds = test_knn(X_test, models)\n",
    "conf_mtx = confusion_table(y_test, preds)\n",
    "print(conf_mtx)\n",
    "```\n",
    "you should obtain something similar to\n",
    "```\n",
    "[[16.  1.]\n",
    " [ 0. 28.]]\n",
    "```\n",
    "Note: the exact values can differ in your run\n",
    "\n",
    "**Note:** do not use library functions to compute the result directly but implement your own version."
   ]
  },
  {
   "cell_type": "code",
   "execution_count": null,
   "metadata": {
    "deletable": false,
    "nbgrader": {
     "cell_type": "code",
     "checksum": "2b00fc58c41247681c010e3389ff66e9",
     "grade": false,
     "grade_id": "cell-176a75e90af658d1",
     "locked": false,
     "schema_version": 3,
     "solution": true,
     "task": false
    }
   },
   "outputs": [],
   "source": [
    "def confusion_table(targets, preds):\n",
    "    # YOUR CODE HERE\n",
    "    raise NotImplementedError()"
   ]
  },
  {
   "cell_type": "code",
   "execution_count": null,
   "metadata": {
    "deletable": false,
    "editable": false,
    "nbgrader": {
     "cell_type": "code",
     "checksum": "2593cff5ca1d4cf2178e76fe87958cf6",
     "grade": true,
     "grade_id": "cell-00a88b70a57ad1df",
     "locked": true,
     "points": 5,
     "schema_version": 3,
     "solution": false,
     "task": false
    }
   },
   "outputs": [],
   "source": [
    "# This cell is reserved for the unit tests. Do not consider this cell. "
   ]
  },
  {
   "cell_type": "markdown",
   "metadata": {
    "deletable": false,
    "editable": false,
    "nbgrader": {
     "cell_type": "markdown",
     "checksum": "bae33674b450101b9126af0e2efb72b4",
     "grade": false,
     "grade_id": "cell-39022c43725d18a2",
     "locked": true,
     "schema_version": 3,
     "solution": false,
     "task": false
    }
   },
   "source": [
    "## Question 22 [marks 1]\n",
    "\n",
    "Make a function `error_from_confusion_table(confusion_table_func, targets, preds)` that takes in input the previous `confusion_table` function and returns the error, i.e. the fraction of predictions that do not agree with the targets."
   ]
  },
  {
   "cell_type": "code",
   "execution_count": null,
   "metadata": {
    "deletable": false,
    "nbgrader": {
     "cell_type": "code",
     "checksum": "2365f18f722e8ce42bd99ba99991ea56",
     "grade": false,
     "grade_id": "cell-ebe8c8b0dbd3efe5",
     "locked": false,
     "schema_version": 3,
     "solution": true,
     "task": false
    }
   },
   "outputs": [],
   "source": [
    "def error_from_confusion_table(confusion_table_func, targets, preds):\n",
    "    # YOUR CODE HERE\n",
    "    raise NotImplementedError()"
   ]
  },
  {
   "cell_type": "code",
   "execution_count": null,
   "metadata": {
    "deletable": false,
    "editable": false,
    "nbgrader": {
     "cell_type": "code",
     "checksum": "1000097f4d4ae8b11ee6441001833cce",
     "grade": true,
     "grade_id": "cell-535aed4f0db3a8dc",
     "locked": true,
     "points": 1,
     "schema_version": 3,
     "solution": false,
     "task": false
    }
   },
   "outputs": [],
   "source": [
    "# This cell is reserved for the unit tests. Do not consider this cell. "
   ]
  },
  {
   "cell_type": "markdown",
   "metadata": {
    "deletable": false,
    "editable": false,
    "nbgrader": {
     "cell_type": "markdown",
     "checksum": "b191bcd464e620a09aa92ec74b8839bf",
     "grade": false,
     "grade_id": "cell-265762770e3a29f9",
     "locked": true,
     "schema_version": 3,
     "solution": false,
     "task": false
    }
   },
   "source": [
    "## Question 23 [marks 12]\n",
    "\n",
    "Make a function `predictions, out_targets = cross_validation_prediction(train_func, test_func, param, data_matrix, targets, kfold)` that estimates the predictions of a classifier trained via the function `train_func` with parameter `param` on the problem `data_matrix, targets` using a k-fold cross validation strategy with the number of folds indicated by `kfold`.\n",
    "\n",
    "Since the order of the instances associated to the predictions can be different from the original order, the function is required to output also the corresponding target values in the array `out_targets` (i.e. the value in position 10 in `predictions` corresponds to the target value in position 10 in `out_targets` )\n",
    "\n",
    "**Note:** do not use library functions (such as `KFold` or `StratifiedKFold`) but implement your own version of the cross validation."
   ]
  },
  {
   "cell_type": "code",
   "execution_count": null,
   "metadata": {
    "deletable": false,
    "nbgrader": {
     "cell_type": "code",
     "checksum": "0dc461a62adc2fb145ae329fca3cf87e",
     "grade": false,
     "grade_id": "cell-871b84ac5ae59e38",
     "locked": false,
     "schema_version": 3,
     "solution": true,
     "task": false
    }
   },
   "outputs": [],
   "source": [
    "def cross_validation_prediction(train_func, test_func, param, data_matrix, targets, kfold):\n",
    "    # YOUR CODE HERE\n",
    "    raise NotImplementedError()"
   ]
  },
  {
   "cell_type": "code",
   "execution_count": null,
   "metadata": {
    "deletable": false,
    "editable": false,
    "nbgrader": {
     "cell_type": "code",
     "checksum": "cee7461170a6f5035605a7d9e6cb9573",
     "grade": true,
     "grade_id": "cell-76f31b6cacf8f5f8",
     "locked": true,
     "points": 6,
     "schema_version": 3,
     "solution": false,
     "task": false
    }
   },
   "outputs": [],
   "source": [
    "# This cell is reserved for the unit tests. Do not consider this cell. "
   ]
  },
  {
   "cell_type": "code",
   "execution_count": null,
   "metadata": {
    "deletable": false,
    "editable": false,
    "nbgrader": {
     "cell_type": "code",
     "checksum": "d24b9a5629423fca3182ddffd0218c66",
     "grade": true,
     "grade_id": "cell-7a433e8e5fb3c0a4",
     "locked": true,
     "points": 6,
     "schema_version": 3,
     "solution": false,
     "task": false
    }
   },
   "outputs": [],
   "source": [
    "# This cell is reserved for the unit tests. Do not consider this cell. "
   ]
  },
  {
   "cell_type": "markdown",
   "metadata": {
    "deletable": false,
    "editable": false,
    "nbgrader": {
     "cell_type": "markdown",
     "checksum": "fb32c7b7ec8f1cd0f7d25d765becf285",
     "grade": false,
     "grade_id": "cell-b6756e854969d98b",
     "locked": true,
     "schema_version": 3,
     "solution": false,
     "task": false
    }
   },
   "source": [
    "## Question 24 [marks 5]\n",
    "\n",
    "Make a function `mean_errors = compute_errors_with_crossvalidation(train_func, test_func, params, data_matrix, targets, kfold, n_repetitions)` that returns the estimated average error for each parameter in `params`. The classifier is trained via the function `train_func` with parameters taken from `params` on the problem `data_matrix, targets` using a k-fold cross validation strategy with the number of folds indicated by `kfold`.\n",
    "The error estimate is repeated a number of times indicated in `n_repetitions`. The error should be computed using the function `error_from_confusion_table`. The output vector `mean_errors` has as many entries as there are paramters in `params`.\n",
    "\n",
    "**Note:** do not use library functions (such as `cross_val_score`) but implement your own version of the code."
   ]
  },
  {
   "cell_type": "code",
   "execution_count": null,
   "metadata": {
    "deletable": false,
    "nbgrader": {
     "cell_type": "code",
     "checksum": "dba054e6a6944e090333db353aa91bda",
     "grade": false,
     "grade_id": "cell-16f6d125d1c875b3",
     "locked": false,
     "schema_version": 3,
     "solution": true,
     "task": false
    }
   },
   "outputs": [],
   "source": [
    "def compute_errors_with_crossvalidation(train_func, test_func, params, data_matrix, targets, kfold, n_repetitions):\n",
    "    # YOUR CODE HERE\n",
    "    raise NotImplementedError()"
   ]
  },
  {
   "cell_type": "code",
   "execution_count": null,
   "metadata": {
    "deletable": false,
    "editable": false,
    "nbgrader": {
     "cell_type": "code",
     "checksum": "cf0052c6a0d4c8baf1cad3006fb667c7",
     "grade": true,
     "grade_id": "cell-0fced19d33039cab",
     "locked": true,
     "points": 5,
     "schema_version": 3,
     "solution": false,
     "task": false
    }
   },
   "outputs": [],
   "source": [
    "# This cell is reserved for the unit tests. Do not consider this cell. "
   ]
  },
  {
   "cell_type": "markdown",
   "metadata": {
    "deletable": false,
    "editable": false,
    "nbgrader": {
     "cell_type": "markdown",
     "checksum": "03fb4a703d38cd335991d14eb8725ad5",
     "grade": false,
     "grade_id": "cell-689c2b5f45b17896",
     "locked": true,
     "schema_version": 3,
     "solution": false,
     "task": false
    }
   },
   "source": [
    "## Question 25 [marks 2]\n",
    "\n",
    "Make a function `find_best_param_with_crossvalidation(train_func, test_func, params, data_matrix, targets, kfold, n_repetitions)` that uses crossvalidation to determine which parameter among `params` achieves the smallest estimated predictive error."
   ]
  },
  {
   "cell_type": "code",
   "execution_count": null,
   "metadata": {
    "deletable": false,
    "nbgrader": {
     "cell_type": "code",
     "checksum": "1300dd7d2038c1842c1ea9eb6b10f616",
     "grade": false,
     "grade_id": "cell-3356a77d706ff595",
     "locked": false,
     "schema_version": 3,
     "solution": true,
     "task": false
    }
   },
   "outputs": [],
   "source": [
    "def find_best_param_with_crossvalidation(train_func, test_func, params, data_matrix, targets, kfold, n_repetitions):\n",
    "    # YOUR CODE HERE\n",
    "    raise NotImplementedError()"
   ]
  },
  {
   "cell_type": "code",
   "execution_count": null,
   "metadata": {
    "deletable": false,
    "editable": false,
    "nbgrader": {
     "cell_type": "code",
     "checksum": "1d2dabd02e9044c53676f88bed54be24",
     "grade": true,
     "grade_id": "cell-31eb98e3acfb9b21",
     "locked": true,
     "points": 2,
     "schema_version": 3,
     "solution": false,
     "task": false
    }
   },
   "outputs": [],
   "source": [
    "# This cell is reserved for the unit tests. Do not consider this cell. "
   ]
  },
  {
   "cell_type": "markdown",
   "metadata": {
    "deletable": false,
    "editable": false,
    "nbgrader": {
     "cell_type": "markdown",
     "checksum": "804efee2652ec13b6e1b16378e27f575",
     "grade": false,
     "grade_id": "cell-bb44e9b62569137f",
     "locked": true,
     "schema_version": 3,
     "solution": false,
     "task": false
    }
   },
   "source": [
    "## Question 26 [marks 0]\n",
    "\n",
    "This is just a check-point, i.e. it is for you to see that you are correctly implementing all functions. Since this cell uses functions that you have already implemented and that have already been marked, this Question is not going to be marked.\n",
    "\n",
    "\n",
    "You should be able to run the following code:\n",
    "```python\n",
    "from sklearn.datasets import load_wine\n",
    "X,y = load_wine(return_X_y=True)\n",
    "params = [3,5,7,9,11]\n",
    "train_func, test_func = train_knn, test_knn\n",
    "kfold = 5\n",
    "n_repetitions = 5\n",
    "best_param = find_best_param_with_crossvalidation(train_func, test_func, params, data_matrix, targets, kfold, n_repetitions)\n",
    "print(best_param)\n",
    "```\n",
    "and get a value around 3."
   ]
  },
  {
   "cell_type": "code",
   "execution_count": null,
   "metadata": {
    "deletable": false,
    "editable": false,
    "nbgrader": {
     "cell_type": "code",
     "checksum": "9004b6b0f11e0ff5c2295f5f69a18fe1",
     "grade": false,
     "grade_id": "cell-6a856c9021ae9c19",
     "locked": true,
     "schema_version": 3,
     "solution": false,
     "task": false
    }
   },
   "outputs": [],
   "source": [
    "# Just run the following code, do not modify it\n",
    "from sklearn.datasets import load_wine\n",
    "data_matrix, targets = load_wine(return_X_y=True)\n",
    "params = [3,5,7,9,11]\n",
    "train_func, test_func = train_knn, test_knn\n",
    "kfold = 5\n",
    "n_repetitions = 5\n",
    "best_param = find_best_param_with_crossvalidation(train_func, test_func, params, data_matrix, targets, kfold, n_repetitions)\n",
    "print(best_param)"
   ]
  }
 ],
 "metadata": {
  "kernelspec": {
   "display_name": "Python 3",
   "language": "python",
   "name": "python3"
  },
  "language_info": {
   "codemirror_mode": {
    "name": "ipython",
    "version": 3
   },
   "file_extension": ".py",
   "mimetype": "text/x-python",
   "name": "python",
   "nbconvert_exporter": "python",
   "pygments_lexer": "ipython3",
   "version": "3.8.3"
  }
 },
 "nbformat": 4,
 "nbformat_minor": 4
}
